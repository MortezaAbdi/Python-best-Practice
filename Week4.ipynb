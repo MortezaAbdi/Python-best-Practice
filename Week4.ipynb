{
 "cells": [
  {
   "cell_type": "markdown",
   "metadata": {},
   "source": [
    "# Strings, List Dictionary\n",
    "\n",
    "In this module you'll dive into more advanced ways to manipulate strings using indexing, slicing, and advanced formatting. You'll also explore the more advanced data types: lists, tuples, and dictionaries. You'll learn to store, reference, and manipulate data in these structures, as well as combine them to store complex data structures.\n",
    "\n",
    "\n"
   ]
  },
  {
   "cell_type": "markdown",
   "metadata": {},
   "source": [
    "**Key Concepts**\n",
    "- Manipulate strings using indexing, slicing, and formatting\n",
    "- Use lists and tuples to store, reference, and manipulate data\n",
    "- Leverage dictionaries to store more complex data, reference data by keys, and manipulate data stored\n",
    "- Combine these data types to construct complex data structures\n",
    "\n"
   ]
  },
  {
   "cell_type": "markdown",
   "metadata": {},
   "source": [
    "# Strings\n",
    "\n",
    "Basic Structures Introduction \n",
    "\n",
    "\n",
    "We have covered the basic elements of Python syntax. We talked about how to define functions, how to make your computer act differently based on conditionals, and how to make it perform operations repeatedly using while, and for loops, and recursion. Now that we have the basics of syntax out of the way, we can start growing our Python knowledge which will let us do more and more interesting operations. Remember, one of our main goals in this course is to help you learn to write short Python scripts that automate actions, you've made big steps towards getting there.\n",
    "\n",
    "**Data Type/Structure:**\n",
    "- Strings\n",
    "- Lists\n",
    "- Dictionaries\n"
   ]
  },
  {
   "cell_type": "markdown",
   "metadata": {},
   "source": [
    "Modify the double_word function so that it returns the same word repeated twice, followed by the length of the new doubled word. For example, double_word(\"hello\") should return hellohello10."
   ]
  },
  {
   "cell_type": "code",
   "execution_count": 158,
   "metadata": {},
   "outputs": [
    {
     "name": "stdout",
     "output_type": "stream",
     "text": [
      "hellohello10\n",
      "abcabc6\n",
      "0\n"
     ]
    }
   ],
   "source": [
    "def double_word(word):\n",
    "    result = word * 2\n",
    "    length = len(result)\n",
    "    result += str(length)\n",
    "    return result \n",
    "\n",
    "print(double_word(\"hello\")) # Should return hellohello10\n",
    "print(double_word(\"abc\"))   # Should return abcabc6\n",
    "print(double_word(\"\"))      # Should return 0"
   ]
  },
  {
   "cell_type": "markdown",
   "metadata": {},
   "source": [
    "Next we'll cover some of the operations we can perform over strings, including how to access parts of them and modify them."
   ]
  },
  {
   "cell_type": "code",
   "execution_count": 25,
   "metadata": {},
   "outputs": [
    {
     "name": "stdout",
     "output_type": "stream",
     "text": [
      "a\n",
      "J\n",
      "n\n"
     ]
    },
    {
     "ename": "IndexError",
     "evalue": "string index out of range",
     "output_type": "error",
     "traceback": [
      "\u001b[1;31m---------------------------------------------------------------------------\u001b[0m",
      "\u001b[1;31mIndexError\u001b[0m                                Traceback (most recent call last)",
      "\u001b[1;32m<ipython-input-25-9d6a5cee3779>\u001b[0m in \u001b[0;36m<module>\u001b[1;34m\u001b[0m\n\u001b[0;32m      3\u001b[0m \u001b[0mprint\u001b[0m\u001b[1;33m(\u001b[0m\u001b[0mname\u001b[0m\u001b[1;33m[\u001b[0m\u001b[1;36m0\u001b[0m\u001b[1;33m]\u001b[0m\u001b[1;33m)\u001b[0m\u001b[1;33m\u001b[0m\u001b[1;33m\u001b[0m\u001b[0m\n\u001b[0;32m      4\u001b[0m \u001b[0mprint\u001b[0m\u001b[1;33m(\u001b[0m\u001b[0mname\u001b[0m\u001b[1;33m[\u001b[0m\u001b[1;36m5\u001b[0m\u001b[1;33m]\u001b[0m\u001b[1;33m)\u001b[0m\u001b[1;33m\u001b[0m\u001b[1;33m\u001b[0m\u001b[0m\n\u001b[1;32m----> 5\u001b[1;33m \u001b[0mprint\u001b[0m\u001b[1;33m(\u001b[0m\u001b[0mname\u001b[0m\u001b[1;33m[\u001b[0m\u001b[1;36m6\u001b[0m\u001b[1;33m]\u001b[0m\u001b[1;33m)\u001b[0m\u001b[1;33m\u001b[0m\u001b[1;33m\u001b[0m\u001b[0m\n\u001b[0m",
      "\u001b[1;31mIndexError\u001b[0m: string index out of range"
     ]
    }
   ],
   "source": [
    "name = \"Jaylen\"\n",
    "print(name[1])\n",
    "print(name[0])\n",
    "print(name[5])\n",
    "print(name[6])"
   ]
  },
  {
   "cell_type": "markdown",
   "metadata": {},
   "source": [
    "What if you want to print the last character of a string but you don't know how long it is? \n",
    "\n",
    "In this example, we don't know the length of the string, but it doesn't matter. Using negative indexes lets us access the positions in the string starting from the last"
   ]
  },
  {
   "cell_type": "code",
   "execution_count": 30,
   "metadata": {},
   "outputs": [
    {
     "name": "stdout",
     "output_type": "stream",
     "text": [
      "s\n",
      "h\n"
     ]
    },
    {
     "data": {
      "text/plain": [
       "False"
      ]
     },
     "execution_count": 30,
     "metadata": {},
     "output_type": "execute_result"
    }
   ],
   "source": [
    "text = \"Random string  with a lot of charachtors\"\n",
    "print(text[-1])\n",
    "print(text[-5])\n",
    "\n"
   ]
  },
  {
   "cell_type": "markdown",
   "metadata": {},
   "source": [
    "Want to give it a go yourself? Be my guest! Modify the first_and_last function so that it returns True if the first letter of the string is the same as the last letter of the string, False if they’re different. Remember that you can access characters using message[0] or message[-1]. Be careful how you handle the empty string, which should return True since nothing is equal to nothing."
   ]
  },
  {
   "cell_type": "code",
   "execution_count": 55,
   "metadata": {},
   "outputs": [
    {
     "name": "stdout",
     "output_type": "stream",
     "text": [
      "True\n",
      "False\n",
      "True\n"
     ]
    }
   ],
   "source": [
    "def first_and_last(message):\n",
    "    if message!=\"\":\n",
    "        if (message[0] == message[-1]):\n",
    "            return True\n",
    "        else:\n",
    "            return False\n",
    "    else:\n",
    "        return True\n",
    "print(first_and_last(\"else\"))\n",
    "print(first_and_last(\"tree\"))\n",
    "print(first_and_last(\"\"))"
   ]
  },
  {
   "cell_type": "code",
   "execution_count": 160,
   "metadata": {},
   "outputs": [
    {
     "name": "stdout",
     "output_type": "stream",
     "text": [
      "True\n",
      "False\n",
      "True\n"
     ]
    }
   ],
   "source": [
    "def first_and_last(message):\n",
    "    if message == \"\" or message[0] == message[-1]:\n",
    "        return True\n",
    "    return False\n",
    "\n",
    "print(first_and_last(\"else\"))\n",
    "print(first_and_last(\"tree\"))\n",
    "print(first_and_last(\"\"))"
   ]
  },
  {
   "cell_type": "markdown",
   "metadata": {},
   "source": [
    "On top of accessing individual characters, we can also access a slice of a string. A slice is the portion of a string that can contain more than one character, also sometimes called a substring. We do that by creating a range using a colon as a separator. Let's see an example of this.\n"
   ]
  },
  {
   "cell_type": "code",
   "execution_count": 65,
   "metadata": {},
   "outputs": [
    {
     "data": {
      "text/plain": [
       "'oran'"
      ]
     },
     "execution_count": 65,
     "metadata": {},
     "output_type": "execute_result"
    }
   ],
   "source": [
    "color = \"orange\"\n",
    "color[0:4]"
   ]
  },
  {
   "cell_type": "code",
   "execution_count": 61,
   "metadata": {},
   "outputs": [
    {
     "data": {
      "text/plain": [
       "'pine'"
      ]
     },
     "execution_count": 61,
     "metadata": {},
     "output_type": "execute_result"
    }
   ],
   "source": [
    "fruit = \"pineapple\"\n",
    "print(fruit[:4])"
   ]
  },
  {
   "cell_type": "code",
   "execution_count": 64,
   "metadata": {},
   "outputs": [
    {
     "name": "stdout",
     "output_type": "stream",
     "text": [
      "apple\n"
     ]
    }
   ],
   "source": [
    "print(fruit[4:])"
   ]
  },
  {
   "cell_type": "markdown",
   "metadata": {},
   "source": [
    "Modify and Creating New Strings\n"
   ]
  },
  {
   "cell_type": "code",
   "execution_count": 72,
   "metadata": {},
   "outputs": [
    {
     "ename": "TypeError",
     "evalue": "'str' object does not support item assignment",
     "output_type": "error",
     "traceback": [
      "\u001b[1;31m---------------------------------------------------------------------------\u001b[0m",
      "\u001b[1;31mTypeError\u001b[0m                                 Traceback (most recent call last)",
      "\u001b[1;32m<ipython-input-72-fa13c1928870>\u001b[0m in \u001b[0;36m<module>\u001b[1;34m\u001b[0m\n\u001b[0;32m      1\u001b[0m \u001b[0mmessage\u001b[0m \u001b[1;33m=\u001b[0m \u001b[1;34m\"A kong string with a silly typo\"\u001b[0m\u001b[1;33m\u001b[0m\u001b[1;33m\u001b[0m\u001b[0m\n\u001b[1;32m----> 2\u001b[1;33m \u001b[0mmessage\u001b[0m\u001b[1;33m[\u001b[0m\u001b[1;36m2\u001b[0m\u001b[1;33m]\u001b[0m\u001b[1;33m=\u001b[0m \u001b[1;34m'l'\u001b[0m\u001b[1;33m\u001b[0m\u001b[1;33m\u001b[0m\u001b[0m\n\u001b[0m",
      "\u001b[1;31mTypeError\u001b[0m: 'str' object does not support item assignment"
     ]
    }
   ],
   "source": [
    "message = \"A kong string with a silly typo\" \n",
    "message[2]= 'l'"
   ]
  },
  {
   "cell_type": "markdown",
   "metadata": {},
   "source": [
    "These pesky type errors, right? In this case, we're told that strings don't support item assignment. This means that we can't change individual characters because strings in Python are immutable, which is just a fancy word, meaning they can't be modified. What we can do is create a new string based on the old one, like this."
   ]
  },
  {
   "cell_type": "code",
   "execution_count": 73,
   "metadata": {},
   "outputs": [
    {
     "name": "stdout",
     "output_type": "stream",
     "text": [
      "A long string with a silly typo\n"
     ]
    }
   ],
   "source": [
    "new_message = message[0:2] + 'l' + message[3:]\n",
    "print(new_message)"
   ]
  },
  {
   "cell_type": "markdown",
   "metadata": {},
   "source": [
    " But does this mean the message variable can never change? Not really. We can assign a new value to the same variable. Let's do that a couple of times to see how it works."
   ]
  },
  {
   "cell_type": "code",
   "execution_count": 75,
   "metadata": {},
   "outputs": [
    {
     "name": "stdout",
     "output_type": "stream",
     "text": [
      "this is the message\n"
     ]
    }
   ],
   "source": [
    "message = \"this is the message\"\n",
    "print(message)"
   ]
  },
  {
   "cell_type": "code",
   "execution_count": 78,
   "metadata": {},
   "outputs": [
    {
     "name": "stdout",
     "output_type": "stream",
     "text": [
      "And another message\n"
     ]
    }
   ],
   "source": [
    "message = \"And another message\"\n",
    "print(message)"
   ]
  },
  {
   "cell_type": "markdown",
   "metadata": {},
   "source": [
    "So, we figured out how to create a new message from the old one. But how are we supposed to know which character to change? Let's try something different.\n"
   ]
  },
  {
   "cell_type": "code",
   "execution_count": 83,
   "metadata": {},
   "outputs": [
    {
     "data": {
      "text/plain": [
       "5"
      ]
     },
     "execution_count": 83,
     "metadata": {},
     "output_type": "execute_result"
    }
   ],
   "source": [
    "pets= \"Cats & Dogs\"\n",
    "pets.index(\"&\")"
   ]
  },
  {
   "cell_type": "markdown",
   "metadata": {},
   "source": [
    "In this case, we're using a method to get the index of a certain character. A method is a function associated with a specific class. We'll talk a lot more about classes and methods later. \n",
    "\n",
    " For now, what you need to know is that this is a function that applies to a variable. And we can call it by following the variable with a dot. Let's try this a few more times."
   ]
  },
  {
   "cell_type": "code",
   "execution_count": 85,
   "metadata": {},
   "outputs": [
    {
     "data": {
      "text/plain": [
       "0"
      ]
     },
     "execution_count": 85,
     "metadata": {},
     "output_type": "execute_result"
    }
   ],
   "source": [
    "pets.index(\"C\")"
   ]
  },
  {
   "cell_type": "code",
   "execution_count": 86,
   "metadata": {},
   "outputs": [
    {
     "data": {
      "text/plain": [
       "7"
      ]
     },
     "execution_count": 86,
     "metadata": {},
     "output_type": "execute_result"
    }
   ],
   "source": [
    "pets.index(\"Dog\")"
   ]
  },
  {
   "cell_type": "code",
   "execution_count": 88,
   "metadata": {},
   "outputs": [
    {
     "data": {
      "text/plain": [
       "3"
      ]
     },
     "execution_count": 88,
     "metadata": {},
     "output_type": "execute_result"
    }
   ],
   "source": [
    "pets.index(\"s\")"
   ]
  },
  {
   "cell_type": "markdown",
   "metadata": {},
   "source": [
    "Here, we know there are two s characters, but we only get one value. That's because the index method returns just the first position that matches. And what happens if the string doesn't have the substring we're looking for? The index method can't return a number because the substring isn't there, so we get a value error instead."
   ]
  },
  {
   "cell_type": "code",
   "execution_count": 89,
   "metadata": {},
   "outputs": [
    {
     "ename": "ValueError",
     "evalue": "substring not found",
     "output_type": "error",
     "traceback": [
      "\u001b[1;31m---------------------------------------------------------------------------\u001b[0m",
      "\u001b[1;31mValueError\u001b[0m                                Traceback (most recent call last)",
      "\u001b[1;32m<ipython-input-89-889c3e9ea182>\u001b[0m in \u001b[0;36m<module>\u001b[1;34m\u001b[0m\n\u001b[1;32m----> 1\u001b[1;33m \u001b[0mpets\u001b[0m\u001b[1;33m.\u001b[0m\u001b[0mindex\u001b[0m\u001b[1;33m(\u001b[0m\u001b[1;34m\"S\"\u001b[0m\u001b[1;33m)\u001b[0m\u001b[1;33m\u001b[0m\u001b[1;33m\u001b[0m\u001b[0m\n\u001b[0m",
      "\u001b[1;31mValueError\u001b[0m: substring not found"
     ]
    }
   ],
   "source": [
    "pets.index(\"S\")"
   ]
  },
  {
   "cell_type": "markdown",
   "metadata": {},
   "source": [
    "Try using the index method yourself now!\n",
    "\n",
    "Using the index method, find out the position of \"x\" in \"supercalifragilisticexpialidocious\"."
   ]
  },
  {
   "cell_type": "code",
   "execution_count": 92,
   "metadata": {},
   "outputs": [
    {
     "name": "stdout",
     "output_type": "stream",
     "text": [
      "21\n"
     ]
    }
   ],
   "source": [
    "word = \"supercalifragilisticexpialidocious\"\n",
    "print(word.index(\"x\"))"
   ]
  },
  {
   "cell_type": "markdown",
   "metadata": {},
   "source": [
    "We said, that if the substring isn't there, we would get an error. So how can we know if a substring is contained in a string to avoid the error? Let's check this out\n",
    "\n",
    "- by using `in` keyword"
   ]
  },
  {
   "cell_type": "code",
   "execution_count": 94,
   "metadata": {},
   "outputs": [
    {
     "data": {
      "text/plain": [
       "False"
      ]
     },
     "execution_count": 94,
     "metadata": {},
     "output_type": "execute_result"
    }
   ],
   "source": [
    "\"Drogon\" in pets"
   ]
  },
  {
   "cell_type": "code",
   "execution_count": 96,
   "metadata": {},
   "outputs": [
    {
     "data": {
      "text/plain": [
       "True"
      ]
     },
     "execution_count": 96,
     "metadata": {},
     "output_type": "execute_result"
    }
   ],
   "source": [
    "\"Cat\" in pets"
   ]
  },
  {
   "cell_type": "markdown",
   "metadata": {},
   "source": [
    "Let's put all the stuff together to solve a real-world problem. Imagine that your company has recently moved to using a new domain, but a lot of the company email addresses are still using the old one. You want to write a program that replaces this old domain with the new one in any outdated email addresses.\n",
    "\n",
    "The function to replace the domain would look like this."
   ]
  },
  {
   "cell_type": "code",
   "execution_count": 164,
   "metadata": {},
   "outputs": [],
   "source": [
    "def replace_domain(email, old_domain, new_domain):\n",
    "    if \"@\" + old_domain in email:\n",
    "        index = email.index(\"@\" + old_domain)\n",
    "        new_email = email[:index] + \"@\" + new_domain\n",
    "        return new_email\n",
    "    return email\n",
    "    \n",
    "# replace_domain(morteza@me.com, me.com, me2.com)"
   ]
  },
  {
   "cell_type": "markdown",
   "metadata": {},
   "source": [
    "# More string methods\n",
    " let's get back to the good stuff. So far, we've seen ways you can access portions of strings using the indexing technique, create new strings by slicing and concatenating, find characters and strings using the index method, and even test if one string contains another. On top of all this string processing power, the string class provides a bunch of other methods for working with text. Now, we'll show you how to use some of these methods. Remember, the goal is not for you to memorize all of this. Instead, we want to give you an idea of what you can do with strings in Python.\n",
    "\n",
    "- Transformation or farmating on string \n",
    "    - Handeling user input using \n",
    "        - .upper()\n",
    "        - .lower()\n",
    "        "
   ]
  },
  {
   "cell_type": "code",
   "execution_count": 104,
   "metadata": {},
   "outputs": [
    {
     "data": {
      "text/plain": [
       "'MONTAIN'"
      ]
     },
     "execution_count": 104,
     "metadata": {},
     "output_type": "execute_result"
    }
   ],
   "source": [
    "\"montain\".upper()"
   ]
  },
  {
   "cell_type": "code",
   "execution_count": 105,
   "metadata": {},
   "outputs": [
    {
     "data": {
      "text/plain": [
       "'moutain'"
      ]
     },
     "execution_count": 105,
     "metadata": {},
     "output_type": "execute_result"
    }
   ],
   "source": [
    "\"MOUTAIN\".lower()"
   ]
  },
  {
   "cell_type": "markdown",
   "metadata": {},
   "source": [
    "Let's say you wanted to check if the user answered yes to a question. How would you know if the user typed it using upper or lower case? You don't need to, you just transform the answer to the case you want. Like this example."
   ]
  },
  {
   "cell_type": "code",
   "execution_count": 108,
   "metadata": {},
   "outputs": [
    {
     "name": "stdout",
     "output_type": "stream",
     "text": [
      "User said yes\n"
     ]
    }
   ],
   "source": [
    "answer = \"YES\"\n",
    "if answer.lower()==\"yes\":\n",
    "    print(\"User said yes\")"
   ]
  },
  {
   "cell_type": "markdown",
   "metadata": {},
   "source": [
    "# strip method \n",
    "Another useful method when dealing with user input is the strip method. This method will get rid of surrounding spaces in the string. If we ask the user for an answer, we usually don't care about any surrounding spaces. So it's a good idea to use the strip method to get rid of any white space.\n",
    "\n",
    "This means that strip doesn't just remove spaces, it also removes tabs and new line characters, which are all characters we don't usually want in user-provided strings. \n",
    "\n",
    "- lstrip\n",
    "- rstrip\n",
    "\n",
    "\n",
    "\n"
   ]
  },
  {
   "cell_type": "code",
   "execution_count": 112,
   "metadata": {},
   "outputs": [
    {
     "data": {
      "text/plain": [
       "'yes'"
      ]
     },
     "execution_count": 112,
     "metadata": {},
     "output_type": "execute_result"
    }
   ],
   "source": [
    "\" yes \".strip()"
   ]
  },
  {
   "cell_type": "code",
   "execution_count": 113,
   "metadata": {},
   "outputs": [
    {
     "data": {
      "text/plain": [
       "'yes '"
      ]
     },
     "execution_count": 113,
     "metadata": {},
     "output_type": "execute_result"
    }
   ],
   "source": [
    "\" yes \".lstrip()"
   ]
  },
  {
   "cell_type": "code",
   "execution_count": 115,
   "metadata": {},
   "outputs": [
    {
     "data": {
      "text/plain": [
       "' yes'"
      ]
     },
     "execution_count": 115,
     "metadata": {},
     "output_type": "execute_result"
    }
   ],
   "source": [
    "\" yes \".rstrip()"
   ]
  },
  {
   "cell_type": "code",
   "execution_count": 118,
   "metadata": {},
   "outputs": [
    {
     "data": {
      "text/plain": [
       "4"
      ]
     },
     "execution_count": 118,
     "metadata": {},
     "output_type": "execute_result"
    }
   ],
   "source": [
    "\"the number of times e occurs in this string is 4\".count(\"e\")"
   ]
  },
  {
   "cell_type": "markdown",
   "metadata": {},
   "source": [
    "The method endswith returns whether the string ends with a certain substring."
   ]
  },
  {
   "cell_type": "code",
   "execution_count": 121,
   "metadata": {},
   "outputs": [
    {
     "data": {
      "text/plain": [
       "True"
      ]
     },
     "execution_count": 121,
     "metadata": {},
     "output_type": "execute_result"
    }
   ],
   "source": [
    "\"Forest\".endswith(\"rest\")"
   ]
  },
  {
   "cell_type": "code",
   "execution_count": 128,
   "metadata": {},
   "outputs": [
    {
     "data": {
      "text/plain": [
       "True"
      ]
     },
     "execution_count": 128,
     "metadata": {},
     "output_type": "execute_result"
    }
   ],
   "source": [
    "\"123\".isnumeric()"
   ]
  },
  {
   "cell_type": "code",
   "execution_count": 127,
   "metadata": {},
   "outputs": [
    {
     "data": {
      "text/plain": [
       "444"
      ]
     },
     "execution_count": 127,
     "metadata": {},
     "output_type": "execute_result"
    }
   ],
   "source": [
    "int(\"123\") + int(\"321\")"
   ]
  },
  {
   "cell_type": "markdown",
   "metadata": {},
   "source": [
    "In earlier videos, we showed that we can concatenate strings using the plus sign. The join method can also be used for concatenating."
   ]
  },
  {
   "cell_type": "code",
   "execution_count": 131,
   "metadata": {},
   "outputs": [
    {
     "data": {
      "text/plain": [
       "'This is a phrase joined by space'"
      ]
     },
     "execution_count": 131,
     "metadata": {},
     "output_type": "execute_result"
    }
   ],
   "source": [
    "\" \".join([\"This\", \"is\", \"a\" , \"phrase\", \"joined\", \"by\", \"space\"])"
   ]
  },
  {
   "cell_type": "code",
   "execution_count": 132,
   "metadata": {},
   "outputs": [
    {
     "data": {
      "text/plain": [
       "'This...is...a...phrase...joined...by...space'"
      ]
     },
     "execution_count": 132,
     "metadata": {},
     "output_type": "execute_result"
    }
   ],
   "source": [
    "\"...\".join([\"This\", \"is\", \"a\" , \"phrase\", \"joined\", \"by\", \"space\"])"
   ]
  },
  {
   "cell_type": "markdown",
   "metadata": {},
   "source": [
    "Finally, we can also split a string into a list of strings.\n"
   ]
  },
  {
   "cell_type": "code",
   "execution_count": 135,
   "metadata": {},
   "outputs": [
    {
     "data": {
      "text/plain": [
       "['This', 'is', 'an', 'example']"
      ]
     },
     "execution_count": 135,
     "metadata": {},
     "output_type": "execute_result"
    }
   ],
   "source": [
    "\"This is an example\".split()"
   ]
  },
  {
   "cell_type": "markdown",
   "metadata": {},
   "source": [
    "Want to try some string methods yourself? Give it a go!\n",
    "\n",
    "Fill in the gaps in the initials function so that it returns the initials of the words contained in the phrase received, in upper case. For example: \"Universal Serial Bus\" should return \"USB\"; \"local area network\" should return \"LAN”."
   ]
  },
  {
   "cell_type": "code",
   "execution_count": 169,
   "metadata": {},
   "outputs": [
    {
     "name": "stdout",
     "output_type": "stream",
     "text": [
      "USB\n",
      "LAN\n",
      "OS\n"
     ]
    }
   ],
   "source": [
    "def initials(phrase):\n",
    "    words = phrase.split()\n",
    "    result = \"\"\n",
    "    for word in words:\n",
    "        result += word[0].upper()\n",
    "    return result\n",
    "print(initials(\"Universal Serial Bus\")) # Should be: USB\n",
    "print(initials(\"local area network\")) # Should be: LAN\n",
    "print(initials(\"Operating system\")) # Should be: OS"
   ]
  },
  {
   "cell_type": "code",
   "execution_count": 166,
   "metadata": {},
   "outputs": [
    {
     "data": {
      "text/plain": [
       "['Universal', 'Serial', 'Bus']"
      ]
     },
     "execution_count": 166,
     "metadata": {},
     "output_type": "execute_result"
    }
   ],
   "source": [
    "\"Universal Serial Bus\".split()"
   ]
  },
  {
   "cell_type": "markdown",
   "metadata": {},
   "source": [
    "We've covered a bunch of String class methods already, so let's keep building on those and run down some more advanced methods.\n",
    "\n",
    "The string method lower will return the string with all characters changed to lowercase. The inverse of this is the upper method, which will return the string all in uppercase. Just like with previous methods, we call these on a string using dot notation, like \"this is a string\".upper(). This would return the string \"THIS IS A STRING\". This can be super handy when checking user input, since someone might type in all lowercase, all uppercase, or even a mixture of cases.\n",
    "\n",
    "You can use the strip method to remove surrounding whitespace from a string. Whitespace includes spaces, tabs, and newline characters. You can also use the methods  lstrip and rstrip to remove whitespace only from the left or the right side of the string, respectively.\n",
    "\n",
    "The method count can be used to return the number of times a substring appears in a string. This can be handy for finding out how many characters appear in a string, or counting the number of times a certain word appears in a sentence or paragraph.\n",
    "\n",
    "If you wanted to check if a string ends with a given substring, you can use the method endswith. This will return True if the substring is found at the end of the string, and False if not.\n",
    "\n",
    "The isnumeric method can check if a string is composed of only numbers. If the string contains only numbers, this method will return True. We can use this to check if a string contains numbers before passing the string to the int() function to convert it to an integer, avoiding an error. Useful!\n",
    "\n",
    "We took a look at string concatenation using the plus sign, earlier. We can also use the join method to concatenate strings. This method is called on a string that will be used to join a list of strings. The method takes a list of strings to be joined as a parameter, and returns a new string composed of each of the strings from our list joined using the initial string. For example, \" \".join([\"This\",\"is\",\"a\",\"sentence\"]) would return the string \"This is a sentence\".\n",
    "\n",
    "The inverse of the join method is the split method. This allows us to split a string into a list of strings. By default, it splits by any whitespace characters. You can also split by any other characters by passing a parameter."
   ]
  },
  {
   "cell_type": "markdown",
   "metadata": {},
   "source": [
    "#### Formatting Strings\n",
    "\n",
    " Up to now we've been making strings using the plus sign to just concatenate the parts of the string we wanted to create. And we've used the str function to convert numbers into strings so that we can concatenate them, too. This works, but it's not ideal, especially when the operations you want to do with the string or on the tricky side. There's a better way to do this using the format method. Let's see a couple of examples.\n",
    " \n",
    " - Format Method\n",
    " \n",
    "#### Format options enables you to output humane readable information that you ask for. It is very reach.\n",
    " "
   ]
  },
  {
   "cell_type": "code",
   "execution_count": 181,
   "metadata": {},
   "outputs": [
    {
     "name": "stdout",
     "output_type": "stream",
     "text": [
      "Hello Manny,  your lucky number is 15 \n"
     ]
    }
   ],
   "source": [
    "name = \"Manny\"\n",
    "number = len(name) * 3\n",
    "print(\"Hello {},  your lucky number is {} \".format(name, number))"
   ]
  },
  {
   "cell_type": "code",
   "execution_count": 196,
   "metadata": {},
   "outputs": [
    {
     "name": "stdout",
     "output_type": "stream",
     "text": [
      "your lucky number is 15, Manny.\n"
     ]
    }
   ],
   "source": [
    "print(\"your lucky number is {number}, {name}.\".format(name=name, number=len(name)*3))"
   ]
  },
  {
   "cell_type": "markdown",
   "metadata": {},
   "source": [
    "Modify the student_grade function using the format method, so that it returns the phrase \"X\n",
    "received Y% on the exam\". For example, student_grade(\"Reed\", 80) should return \"Reed received 80% on the exam\"."
   ]
  },
  {
   "cell_type": "code",
   "execution_count": 187,
   "metadata": {},
   "outputs": [
    {
     "name": "stdout",
     "output_type": "stream",
     "text": [
      "Reed received 80% on the exam\n",
      "Paige received 92% on the exam\n",
      "Jesse received 85% on the exam\n"
     ]
    }
   ],
   "source": [
    "def student_grade(name, grade):\n",
    "    return \"{name} received {grade}% on the exam\".format(grade=grade, name=name)\n",
    "print(student_grade(\"Reed\", 80))\n",
    "print(student_grade(\"Paige\", 92))\n",
    "print(student_grade(\"Jesse\", 85))"
   ]
  },
  {
   "cell_type": "code",
   "execution_count": 819,
   "metadata": {},
   "outputs": [
    {
     "name": "stdout",
     "output_type": "stream",
     "text": [
      "7.5 8.175\n"
     ]
    }
   ],
   "source": [
    "price = 7.5\n",
    "with_tax = price * 1.09\n",
    "print(price, with_tax)"
   ]
  },
  {
   "cell_type": "markdown",
   "metadata": {},
   "source": [
    "et's say you want to output the price of an item with and without tax. Depending on what the tax rate is, the number might be a long number with a bunch of decimals. So if something costs `$7.5` without tax and the tax rate is 9%, the price with tax would be $8.175. First off, ouch, and also, since there's no such thing as half a penny anymore, that number doesn't make sense. So to fix this we can make the format function print only two decimals, like this."
   ]
  },
  {
   "cell_type": "code",
   "execution_count": 822,
   "metadata": {},
   "outputs": [
    {
     "name": "stdout",
     "output_type": "stream",
     "text": [
      "Base price: $7.50. with Tax: $8.18\n"
     ]
    }
   ],
   "source": [
    "print(\"Base price: ${:.2f}. with Tax: ${:.2f}\".format(price, with_tax))"
   ]
  },
  {
   "cell_type": "code",
   "execution_count": 195,
   "metadata": {},
   "outputs": [
    {
     "name": "stdout",
     "output_type": "stream",
     "text": [
      "  0 F | -17.78 C\n",
      " 10 F | -12.22 C\n",
      " 20 F |  -6.67 C\n",
      " 30 F |  -1.11 C\n",
      " 40 F |   4.44 C\n",
      " 50 F |  10.00 C\n",
      " 60 F |  15.56 C\n",
      " 70 F |  21.11 C\n",
      " 80 F |  26.67 C\n",
      " 90 F |  32.22 C\n",
      "100 F |  37.78 C\n"
     ]
    }
   ],
   "source": [
    "def to_celcius(x):\n",
    "    return (x-32) * 5/9\n",
    "for x in range(0, 101, 10):\n",
    "    print (\"{:>3} F | {:>6.2f} C\".format(x, to_celcius(x)))"
   ]
  },
  {
   "cell_type": "markdown",
   "metadata": {},
   "source": [
    "In the first expression we're saying we want the numbers to be aligned to the right for a total of three spaces. In the second expression we're saying we want the number to always have exactly two decimal places and we want to align it to the right at six spaces. We can use string formatting like this to make the output of our program look nice and also to generate useful logging and debugging messages.\n",
    "\n",
    "\n",
    "# Summary format() Method\n",
    "You can use the **format** method on strings to concatenate and format strings in all kinds of powerful ways. To do this, create a string containing curly brackets, **{}**, as a placeholder, to be replaced. Then call the format method on the string using .format() and pass variables as parameters. The variables passed to the method will then be used to replace the curly bracket placeholders. This method automatically handles any conversion between data types for us. \n",
    "\n",
    "If the curly brackets are empty, they’ll be populated with the variables passed in the order in which they're passed. However, you can put certain expressions inside the curly brackets to do even more powerful string formatting operations. You can put the name of a variable into the curly brackets, then use the names in the parameters. This allows for more easily readable code, and for more flexibility with the order of variables.\n",
    "\n",
    "You can also put a formatting expression inside the curly brackets, which lets you alter the way the string is formatted. For example, the formatting expression **{:.2f}** means that you’d format this as a float number, with two digits after the decimal dot. The colon acts as a separator from the field name, if you had specified one. You can also specify text alignment using the greater than operator: >. For example, the expression **{:>3.2f}** would align the text three spaces to the right, as well as specify a float number with two decimal places. String formatting can be very handy for outputting easy-to-read textual output."
   ]
  },
  {
   "cell_type": "markdown",
   "metadata": {},
   "source": [
    "# String Reference Cheet Sheet \n",
    "\n",
    "In Python, there are a lot of things you can do with strings. In this cheat sheet, you’ll find the most common string operations and string methods.\n",
    "\n",
    "**String operations**\n",
    "- len(string) returns the length of the string \n",
    "- for character in string Iterates over each character in the string\n",
    "- if substring in string Checks whether the substring is part of the string\n",
    "- `string[i]` Accesses the character at index i of the string, starting at zero\n",
    "- `string[i:j]` Accesses the substring starting at index i, ending at index j-1. If i is omitted, it's 0 by default. If j is omitted, it's len(string) by default.\n",
    "\n",
    "**String methods** \n",
    "- `string.lower()` / `string.upper()` Returns a copy of the string with all lower / upper case characters \n",
    "- `string.lstrip()` / `string.rstrip()` / `string.strip()` Returns a copy of the string without left / right / left or right whitespace\n",
    "-string.count(substring) Returns the number of times substring is present in the string\n",
    "- `string.isnumeric()` Returns True if there are only numeric characters in the string. If not, returns False.\n",
    "- `string.isalpha()` Returns True if there are only alphabetic characters in the string. If not, returns False.\n",
    "- `string.split()` / string.split(delimiter) Returns a list of substrings that were separated by whitespace / delimiter\n",
    "- `string.replace(old, new)` Returns a new string where all occurrences of old have been replaced by new.\n",
    "- `delimiter.join(list of strings)` Returns a new string with all the strings joined by the delimiter\n",
    "\n",
    "\n",
    "Check out the official documentation for [all available String methods](https://docs.python.org/3/library/stdtypes.html#string-methods)."
   ]
  },
  {
   "cell_type": "markdown",
   "metadata": {},
   "source": [
    "# Formatting Strings Cheat Sheet\n",
    "Python offers different ways to format strings. In the video, we explained the format() method. In this reading, we'll highlight three different ways of formatting strings. For this course you only need to know the format() method. But on the internet, you might find any of the three, so it's a good idea to know that the others exist.\n",
    "\n",
    "\n",
    "\n",
    "#### Using the format() method\n",
    "The format method returns a copy of the string where the {} placeholders have been replaced with the values of the variables. These variables are converted to strings if they weren't strings already. Empty placeholders are replaced by the variables passed to format in the same order."
   ]
  },
  {
   "cell_type": "code",
   "execution_count": 202,
   "metadata": {},
   "outputs": [
    {
     "name": "stdout",
     "output_type": "stream",
     "text": [
      "this is an example of using the format() method on a string\n"
     ]
    }
   ],
   "source": [
    "# \"base string with {} placeholders\".format(variables)\n",
    "\n",
    "example = \"format() method\"\n",
    "\n",
    "formatted_string = \"this is an example of using the {} on a string\".format(example)\n",
    "\n",
    "print(formatted_string)\n",
    "\n"
   ]
  },
  {
   "cell_type": "markdown",
   "metadata": {},
   "source": [
    "If the placeholders indicate a number, they’re replaced by the variable corresponding to that order (starting at zero).\n",
    "\n"
   ]
  },
  {
   "cell_type": "code",
   "execution_count": 206,
   "metadata": {},
   "outputs": [
    {
     "name": "stdout",
     "output_type": "stream",
     "text": [
      "apple carrot banana\n"
     ]
    }
   ],
   "source": [
    "# \"{0} {1}\".format(first, second)\n",
    "\n",
    "first = \"apple\"\n",
    "second = \"banana\"\n",
    "third = \"carrot\"\n",
    "\n",
    "formatted_string = \"{0} {2} {1}\".format(first, second, third)\n",
    "\n",
    "print(formatted_string)\n"
   ]
  },
  {
   "cell_type": "markdown",
   "metadata": {},
   "source": [
    "If the placeholders indicate a field name, they’re replaced by the variable corresponding to that field name. This means that parameters to format need to be passed indicating the field name.\n",
    "\n"
   ]
  },
  {
   "cell_type": "code",
   "execution_count": 208,
   "metadata": {},
   "outputs": [],
   "source": [
    "# \"{var1} {var2}\".format(var1=value1, var2=value2)"
   ]
  },
  {
   "cell_type": "markdown",
   "metadata": {},
   "source": [
    "If the placeholders include a colon, what comes after the colon is a formatting expression. See below for the expression reference.\n",
    "\n",
    "Official documentation for the format [string syntax](https://docs.python.org/3/library/string.html#formatstrings)"
   ]
  },
  {
   "cell_type": "code",
   "execution_count": null,
   "metadata": {},
   "outputs": [],
   "source": [
    "# {:d} integer value\n",
    "'{:d}'.format(10.5) → '10'"
   ]
  },
  {
   "cell_type": "markdown",
   "metadata": {},
   "source": [
    "\n",
    "#### Formatting expressions\n",
    "\n",
    "![](Img\\Formatting_expressions.PNG)\n",
    "\n",
    "\n",
    "\n",
    "Check out the official documentation for [all available expressions](https://docs.python.org/3/library/string.html#format-specification-mini-language).\n"
   ]
  },
  {
   "cell_type": "markdown",
   "metadata": {},
   "source": [
    "#### Old string formatting (Optional)\n",
    "The format() method was introduced in Python 2.6. Before that, the % (modulo) operator could be used to get a similar result. While this method is no longer recommended for new code, you might come across it in someone else's code. This is what it looks like:\n",
    "\n",
    "\"base string with %s placeholder\" % variable\n",
    "\n",
    "The % (modulo) operator returns a copy of the string where the placeholders indicated by %  followed by a formatting expression are replaced by the variables after the operator.\n",
    "\n",
    "\"base string with %d and %d placeholders\" % (value1, value2)\n",
    "\n",
    "To replace more than one value, the values need to be written between parentheses. The formatting expression needs to match the value type.\n",
    "\n",
    "-----\n",
    "\"%(var1) %(var2)\" % {var1:value1, var2:value2}\n",
    "\n",
    "\n",
    "Variables can be replaced by name using a dictionary syntax (we’ll learn about dictionaries in an upcoming video).\n",
    "\n",
    "\"Item: %s - Amount: %d - Price: %.2f\" % (item, amount, price)\n",
    "\n",
    "The formatting expressions are mostly the same as those of the format() method. \n",
    "\n",
    "Check out the official documentation for [old string formatting](https://docs.python.org/3/library/stdtypes.html#old-string-formatting).\n",
    "\n",
    "\n",
    "#### Formatted string literals (Optional)\n",
    "\n",
    "This feature was added in Python 3.6 and isn’t used a lot yet. Again, it's included here in case you run into it in the future, but it's not needed for this or any upcoming courses.\n",
    "\n",
    "A formatted string literal or f-string is a string that starts with 'f' or 'F' before the quotes. These strings might contain {} placeholders using expressions like the ones used for format method strings.\n",
    "\n",
    "The important difference with the format method is that it takes the value of the variables from the current context, instead of taking the values from parameters.\n",
    "\n",
    "Examples:\n",
    "> name = \"Micah\"\n",
    "\n",
    "> print(f'Hello {name}')\n",
    "\n",
    "Hello Micah\n",
    "\n",
    "----------\n",
    "\n",
    "> item = \"Purple Cup\"\n",
    "\n",
    "> amount = 5\n",
    "\n",
    "> price = amount * 3.25\n",
    "\n",
    "> print(f'Item: {item} - Amount: {amount} - Price: {price:.2f}')\n",
    "\n",
    "Item: Purple Cup - Amount: 5 - Price: 16.25\n",
    "\n",
    "Check out the official documentation for [f-strings](https://docs.python.org/3/reference/lexical_analysis.html#f-strings)."
   ]
  },
  {
   "cell_type": "markdown",
   "metadata": {},
   "source": [
    "# Practice Quiz: Strings\n",
    "\n",
    "# Q1\n",
    "The is_palindrome function checks if a string is a palindrome. A palindrome is a string that can be equally read from left to right or right to left, omitting blank spaces, and ignoring capitalization. Examples of palindromes are words like kayak and radar, and phrases like \"Never Odd or Even\". Fill in the blanks in this function to return True if the passed string is a palindrome, False if not.\n",
    "\n",
    "\n"
   ]
  },
  {
   "cell_type": "code",
   "execution_count": 697,
   "metadata": {},
   "outputs": [
    {
     "name": "stdout",
     "output_type": "stream",
     "text": [
      "True\n",
      "False\n",
      "True\n"
     ]
    }
   ],
   "source": [
    "#EXAMPLE 6: 互文\n",
    "def is_palindrome(input_string):\n",
    "\t# We'll create two strings, to compare them\n",
    "\tnew_string = \"\"\n",
    "\treverse_string = \"\"\n",
    "\t# Traverse through each letter of the input string\n",
    "\tfor x in input_string.upper():\n",
    "\t\t# Add any non-blank letters to the \n",
    "\t\t# end of one string, and to the front\n",
    "\t\t# of the other string. \n",
    "\t\tif x != \" \":\n",
    "\t\t\tnew_string = new_string + x\n",
    "\t\t\treverse_string = x + reverse_string\n",
    "\t# Compare the strings\n",
    "\tif new_string == reverse_string:\n",
    "\t\treturn True\n",
    "\treturn False\n",
    "\n",
    "print(is_palindrome(\"Never Odd or Even\")) # Should be True\n",
    "print(is_palindrome(\"abc\")) # Should be False\n",
    "print(is_palindrome(\"kayak\")) # Should be True\n"
   ]
  },
  {
   "cell_type": "markdown",
   "metadata": {},
   "source": [
    "# Q2\n",
    "Using the format method, fill in the gaps in the convert_distance function so that it returns the phrase \"X miles equals Y km\", with Y having only 1 decimal place. For example, convert_distance(12) should return \"12 miles equals 19.2 km\".\n"
   ]
  },
  {
   "cell_type": "code",
   "execution_count": 246,
   "metadata": {},
   "outputs": [
    {
     "name": "stdout",
     "output_type": "stream",
     "text": [
      "12 miles equals 19.20 km\n",
      "5.5 miles equals 8.80 km\n",
      "11 miles equals 17.60 km\n"
     ]
    }
   ],
   "source": [
    "def convert_distance(miles):\n",
    "\tkm = miles * 1.6 \n",
    "\tresult = \"{} miles equals {:.2f} km\".format(miles, km)\n",
    "\treturn result\n",
    "\n",
    "print(convert_distance(12)) # Should be: 12 miles equals 19.2 km\n",
    "print(convert_distance(5.5)) # Should be: 5.5 miles equals 8.8 km\n",
    "print(convert_distance(11)) # Should be: 11 miles equals 17.6 km"
   ]
  },
  {
   "cell_type": "markdown",
   "metadata": {},
   "source": [
    "# Q3\n",
    "\n",
    "If we have a string variable named Weather = \"Rainfall\", which of the following will print the substring or all characters before the \"f\"?\n",
    "\n",
    "\n",
    "`print(Weather[:4])`\n",
    "\n",
    "`print(Weather[4:])`\n",
    "\n",
    "`print(Weather[1:4])`\n",
    "\n",
    "`print(Weather[:\"f\"])`\n",
    "\n",
    "\n",
    "\n",
    "\n"
   ]
  },
  {
   "cell_type": "code",
   "execution_count": 224,
   "metadata": {},
   "outputs": [
    {
     "name": "stdout",
     "output_type": "stream",
     "text": [
      "Rain\n"
     ]
    }
   ],
   "source": [
    "weather = 'Rainfall'\n",
    "print(weather[:4])"
   ]
  },
  {
   "cell_type": "markdown",
   "metadata": {},
   "source": [
    "# Q4\n",
    "Fill in the gaps in the nametag function so that it uses the format method to return first_name and the first initial of last_name followed by a period. For example, nametag(\"Jane\", \"Smith\") should return \"Jane S.\"\n",
    "\n"
   ]
  },
  {
   "cell_type": "code",
   "execution_count": 227,
   "metadata": {},
   "outputs": [
    {
     "name": "stdout",
     "output_type": "stream",
     "text": [
      "Jane S.\n",
      "Francesco R.\n",
      "Jean-Luc G.\n"
     ]
    }
   ],
   "source": [
    "def nametag(first_name, last_name): \n",
    "    return(\"{} {}.\".format(first_name, last_name[0]))\n",
    "print(nametag(\"Jane\", \"Smith\")) \n",
    "# Should display \"Jane S.\" \n",
    "print(nametag(\"Francesco\", \"Rinaldi\")) \n",
    "# Should display \"Francesco R.\" \n",
    "print(nametag(\"Jean-Luc\", \"Grand-Pierre\")) \n",
    "# Should display \"Jean-Luc G.\" "
   ]
  },
  {
   "cell_type": "markdown",
   "metadata": {},
   "source": [
    "# Q5\n",
    "The replace_ending function replaces the old string in a sentence with the new string, but only if the sentence ends with the old string. If there is more than one occurrence of the old string in the sentence, only the one at the end is replaced, not all of them. For example, replace_ending(\"abcabc\", \"abc\", \"xyz\") should return abcxyz, not xyzxyz or xyzabc. The string comparison is case-sensitive, so replace_ending(\"abcabc\", \"ABC\", \"xyz\") should return abcabc (no changes made).\n",
    "\n"
   ]
  },
  {
   "cell_type": "code",
   "execution_count": 249,
   "metadata": {},
   "outputs": [
    {
     "name": "stdout",
     "output_type": "stream",
     "text": [
      "It's raining cats and dogs\n",
      "She sells seashells by the seashore\n",
      "The weather is nice in May\n",
      "The weather is nice in April\n"
     ]
    }
   ],
   "source": [
    "def replace_ending(sentence, old, new):\n",
    "\t# Check if the old string is at the end of the sentence \n",
    "\tif sentence.endswith(old):\n",
    "\t\t# Using i as the slicing index, combine the part\n",
    "\t\t# of the sentence up to the matched string at the \n",
    "\t\t# end with the new string\n",
    "\t\ti = len(old) # sentence.index(old)\n",
    "\t\tnew_sentence = sentence[:-i] + new \n",
    "\t\treturn new_sentence\n",
    "\n",
    "\t# Return the original sentence if there is no match \n",
    "\treturn sentence\n",
    "\t\n",
    "print(replace_ending(\"It's raining cats and cats\", \"cats\", \"dogs\")) \n",
    "# Should display \"It's raining cats and dogs\"\n",
    "print(replace_ending(\"She sells seashells by the seashore\", \"seashells\", \"donuts\")) \n",
    "# Should display \"She sells seashells by the seashore\"\n",
    "print(replace_ending(\"The weather is nice in May\", \"may\", \"april\")) \n",
    "# Should display \"The weather is nice in May\"\n",
    "print(replace_ending(\"The weather is nice in May\", \"May\", \"April\")) \n",
    "# Should display \"The weather is nice in April\""
   ]
  },
  {
   "cell_type": "markdown",
   "metadata": {},
   "source": [
    "# Lists\n",
    "\n",
    "#####  What is a list?\n",
    "\n",
    "\n"
   ]
  },
  {
   "cell_type": "code",
   "execution_count": 252,
   "metadata": {},
   "outputs": [
    {
     "data": {
      "text/plain": [
       "list"
      ]
     },
     "execution_count": 252,
     "metadata": {},
     "output_type": "execute_result"
    }
   ],
   "source": [
    " x = [\"Now\", \"we\", \"are\", \"cooking\"]\n",
    "type(x)"
   ]
  },
  {
   "cell_type": "code",
   "execution_count": 254,
   "metadata": {},
   "outputs": [
    {
     "name": "stdout",
     "output_type": "stream",
     "text": [
      "['Now', 'we', 'are', 'cooking']\n"
     ]
    }
   ],
   "source": [
    "print(x)"
   ]
  },
  {
   "cell_type": "code",
   "execution_count": 255,
   "metadata": {},
   "outputs": [
    {
     "data": {
      "text/plain": [
       "4"
      ]
     },
     "execution_count": 255,
     "metadata": {},
     "output_type": "execute_result"
    }
   ],
   "source": [
    "len (x)"
   ]
  },
  {
   "cell_type": "markdown",
   "metadata": {},
   "source": [
    "To check if a list contains a certain element, you can use the keyword \"in\" like in these examples."
   ]
  },
  {
   "cell_type": "code",
   "execution_count": 256,
   "metadata": {},
   "outputs": [
    {
     "data": {
      "text/plain": [
       "True"
      ]
     },
     "execution_count": 256,
     "metadata": {},
     "output_type": "execute_result"
    }
   ],
   "source": [
    "\"are\" in x  "
   ]
  },
  {
   "cell_type": "markdown",
   "metadata": {},
   "source": [
    "Again, like when we use this with strings, the result of this check is a Boolean, which we can use as a condition for branching or looping."
   ]
  },
  {
   "cell_type": "code",
   "execution_count": 257,
   "metadata": {},
   "outputs": [
    {
     "name": "stdout",
     "output_type": "stream",
     "text": [
      "Now\n"
     ]
    }
   ],
   "source": [
    "print(x[0])"
   ]
  },
  {
   "cell_type": "code",
   "execution_count": 258,
   "metadata": {},
   "outputs": [
    {
     "name": "stdout",
     "output_type": "stream",
     "text": [
      "cooking\n"
     ]
    }
   ],
   "source": [
    "print(x[3])"
   ]
  },
  {
   "cell_type": "code",
   "execution_count": 260,
   "metadata": {},
   "outputs": [
    {
     "ename": "IndexError",
     "evalue": "list index out of range",
     "output_type": "error",
     "traceback": [
      "\u001b[1;31m---------------------------------------------------------------------------\u001b[0m",
      "\u001b[1;31mIndexError\u001b[0m                                Traceback (most recent call last)",
      "\u001b[1;32m<ipython-input-260-77e20731532c>\u001b[0m in \u001b[0;36m<module>\u001b[1;34m\u001b[0m\n\u001b[1;32m----> 1\u001b[1;33m \u001b[0mprint\u001b[0m\u001b[1;33m(\u001b[0m\u001b[0mx\u001b[0m\u001b[1;33m[\u001b[0m\u001b[1;36m4\u001b[0m\u001b[1;33m]\u001b[0m\u001b[1;33m)\u001b[0m\u001b[1;33m\u001b[0m\u001b[1;33m\u001b[0m\u001b[0m\n\u001b[0m",
      "\u001b[1;31mIndexError\u001b[0m: list index out of range"
     ]
    }
   ],
   "source": [
    "print(x[4])"
   ]
  },
  {
   "cell_type": "markdown",
   "metadata": {},
   "source": [
    "We get an index error. We can't go over the end of the list. Remember that because list indexes start at zero, accessing the item at index four means we're trying to access the fifth element in the list. There are only four elements. So we're out of range if we try to access the index number four.\n",
    "\n",
    "\n",
    "\n",
    "![](Img\\indexing_list.PNG)\n"
   ]
  },
  {
   "cell_type": "markdown",
   "metadata": {},
   "source": [
    " Create slice of a list just like doing it with string"
   ]
  },
  {
   "cell_type": "code",
   "execution_count": 264,
   "metadata": {},
   "outputs": [
    {
     "data": {
      "text/plain": [
       "['we', 'are']"
      ]
     },
     "execution_count": 264,
     "metadata": {},
     "output_type": "execute_result"
    }
   ],
   "source": [
    "x[1:3]  # 3-1"
   ]
  },
  {
   "cell_type": "markdown",
   "metadata": {},
   "source": [
    "We can also leave out one of the range indexes empty. The first value defaults to zero and the second value to the length of the list"
   ]
  },
  {
   "cell_type": "code",
   "execution_count": 283,
   "metadata": {},
   "outputs": [
    {
     "data": {
      "text/plain": [
       "['are', 'cooking']"
      ]
     },
     "execution_count": 283,
     "metadata": {},
     "output_type": "execute_result"
    }
   ],
   "source": [
    "x[2:]"
   ]
  },
  {
   "cell_type": "markdown",
   "metadata": {},
   "source": [
    "Using the \"split\" string method from the preceding lesson, complete the get_word function to return the {n}th word from a passed sentence. For example, get_word(\"This is a lesson about lists\", 4) should return \"lesson\", which is the 4th word in this sentence. Hint: remember that list indexes start at 0, not 1."
   ]
  },
  {
   "cell_type": "code",
   "execution_count": 291,
   "metadata": {},
   "outputs": [
    {
     "name": "stdout",
     "output_type": "stream",
     "text": [
      "lesson\n",
      "\n",
      "Now\n",
      "\n"
     ]
    }
   ],
   "source": [
    "def get_word(sentence, n):\n",
    "\t# Only proceed if n is positive \n",
    "\tif n > 0:\n",
    "\t\twords = sentence.split()\n",
    "\t\t# Only proceed if n is not more than the number of words \n",
    "\t\tif n <= len(words):\n",
    "\t\t\treturn(words[n-1])\n",
    "\treturn(\"\")\n",
    "print(get_word(\"This is a lesson about lists\", 4)) # Should print: lesson\n",
    "print(get_word(\"This is a lesson about lists\", -4)) # Nothing\n",
    "print(get_word(\"Now we are cooking!\", 1)) # Should print: Now\n",
    "print(get_word(\"Now we are cooking!\", 5)) # Nothing"
   ]
  },
  {
   "cell_type": "markdown",
   "metadata": {},
   "source": [
    "In Python, strings and lists are both examples of **sequences**. There are other sequences too, and they all share a bunch of operations like\n",
    "\n",
    "- iterating over them using for-loops\n",
    "- indexing using the len function to know the length of the sequence,\n",
    "- using plus to concatenate two sequences\n",
    "- using in to verify if the sequence contains an element."
   ]
  },
  {
   "cell_type": "markdown",
   "metadata": {},
   "source": [
    "#### Modifying the Contents of a List\n",
    "\n",
    "- One of the ways that lists and strings are different is that lists are mutable. Which is another fancy word to say that they can change. "
   ]
  },
  {
   "cell_type": "markdown",
   "metadata": {},
   "source": [
    "- append method\n",
    "     - Adding an element to a list using the \n",
    "     \n",
    " The element always gets added to the end. You could start with an empty list and add all of its items using append"
   ]
  },
  {
   "cell_type": "code",
   "execution_count": 315,
   "metadata": {},
   "outputs": [
    {
     "name": "stdout",
     "output_type": "stream",
     "text": [
      "['Pineapple', 'Banna', 'Apple', 'Melone', 'Kiwi']\n"
     ]
    }
   ],
   "source": [
    "fruits = [\"Pineapple\", \"Banna\", \"Apple\", \"Melone\"]\n",
    "fruits.append(\"Kiwi\")\n",
    "print(fruits)"
   ]
  },
  {
   "cell_type": "markdown",
   "metadata": {},
   "source": [
    "- insert method\n",
    "\n",
    "Adds the element to the give index"
   ]
  },
  {
   "cell_type": "code",
   "execution_count": 316,
   "metadata": {},
   "outputs": [
    {
     "name": "stdout",
     "output_type": "stream",
     "text": [
      "['Orangr ', 'Pineapple', 'Banna', 'Apple', 'Melone', 'Kiwi']\n"
     ]
    }
   ],
   "source": [
    "fruits.insert(0, \"Orangr \")\n",
    "print(fruits)"
   ]
  },
  {
   "cell_type": "markdown",
   "metadata": {},
   "source": [
    "What happens if we use a number larger than the length of the list?"
   ]
  },
  {
   "cell_type": "code",
   "execution_count": 317,
   "metadata": {},
   "outputs": [
    {
     "name": "stdout",
     "output_type": "stream",
     "text": [
      "['Orangr ', 'Pineapple', 'Banna', 'Apple', 'Melone', 'Kiwi', 'peach']\n"
     ]
    }
   ],
   "source": [
    "fruits.insert(25, 'peach')\n",
    "print(fruits)"
   ]
  },
  {
   "cell_type": "markdown",
   "metadata": {},
   "source": [
    "- Remove Method"
   ]
  },
  {
   "cell_type": "code",
   "execution_count": 318,
   "metadata": {},
   "outputs": [
    {
     "name": "stdout",
     "output_type": "stream",
     "text": [
      "['Orangr ', 'Pineapple', 'Banna', 'Apple', 'Kiwi', 'peach']\n"
     ]
    }
   ],
   "source": [
    "fruits.remove(\"Melone\")\n",
    "print(fruits)"
   ]
  },
  {
   "cell_type": "markdown",
   "metadata": {},
   "source": [
    "- pop method\n",
    "   - Another way we can remove elements is by using the pop method, which receives an index\n",
    "   - he pop method returns the element that was removed at the index that was passed"
   ]
  },
  {
   "cell_type": "code",
   "execution_count": 319,
   "metadata": {},
   "outputs": [
    {
     "data": {
      "text/plain": [
       "'Apple'"
      ]
     },
     "execution_count": 319,
     "metadata": {},
     "output_type": "execute_result"
    }
   ],
   "source": [
    "fruits.pop(3)"
   ]
  },
  {
   "cell_type": "code",
   "execution_count": 320,
   "metadata": {},
   "outputs": [
    {
     "name": "stdout",
     "output_type": "stream",
     "text": [
      "['Orangr ', 'Pineapple', 'Banna', 'Kiwi', 'peach']\n"
     ]
    }
   ],
   "source": [
    "print(fruits)"
   ]
  },
  {
   "cell_type": "markdown",
   "metadata": {},
   "source": [
    "In the last way to modify the contents of a list is to change an item by assigning something else to that position, like this."
   ]
  },
  {
   "cell_type": "code",
   "execution_count": 322,
   "metadata": {},
   "outputs": [
    {
     "name": "stdout",
     "output_type": "stream",
     "text": [
      "['Orangr ', 'Pineapple', 'Strawberry', 'Kiwi', 'peach']\n"
     ]
    }
   ],
   "source": [
    "fruits[2]=\"Strawberry\"\n",
    "print(fruits)"
   ]
  },
  {
   "cell_type": "markdown",
   "metadata": {},
   "source": [
    "Modifying the contents of lists will come up in tons of scripts as we operate with them. If the list contains hosts on a network, you could add or remove hosts as they come online or offline. If the list contains users authorized to run a certain process, you could add or remove users when permissions are granted or removed and so on."
   ]
  },
  {
   "cell_type": "markdown",
   "metadata": {},
   "source": [
    "The `skip_elements` function returns a list containing every other element from an input list, starting with the first element. Complete this function to do that, using the for loop to iterate through the input list."
   ]
  },
  {
   "cell_type": "code",
   "execution_count": 60,
   "metadata": {},
   "outputs": [
    {
     "name": "stdout",
     "output_type": "stream",
     "text": [
      "['a', 'c', 'e', 'g']\n",
      "['Orange', 'Strawberry', 'Peach']\n",
      "[]\n"
     ]
    }
   ],
   "source": [
    "def skip_elements(elements):\n",
    "    new_list = []\n",
    "    for i in range(0, len(elements), 2):\n",
    "        new_list.append(elements[i])\n",
    "    return (new_list)\n",
    "print(skip_elements([\"a\", \"b\", \"c\", \"d\", \"e\", \"f\", \"g\"])) # Should be ['a', 'c', 'e', 'g']\n",
    "print(skip_elements(['Orange', 'Pineapple', 'Strawberry', 'Kiwi', 'Peach'])) # Should be ['Orange', 'Strawberry', 'Peach']\n",
    "print(skip_elements([])) # Should be []"
   ]
  },
  {
   "cell_type": "code",
   "execution_count": 65,
   "metadata": {},
   "outputs": [
    {
     "name": "stdout",
     "output_type": "stream",
     "text": [
      "['a', 'c', 'e', 'g']\n",
      "['Orange', 'Strawberry', 'Peach']\n",
      "[]\n"
     ]
    }
   ],
   "source": [
    "def skip_elements(elements):\n",
    "    new_list = []\n",
    "    i = 0\n",
    "    for element in elements:\n",
    "        if element == elements[i]:\n",
    "            new_list.append(elements[i])\n",
    "            i +=2\n",
    "    return new_list\n",
    "print(skip_elements([\"a\", \"b\", \"c\", \"d\", \"e\", \"f\", \"g\"])) # Should be ['a', 'c', 'e', 'g']\n",
    "print(skip_elements(['Orange', 'Pineapple', 'Strawberry', 'Kiwi', 'Peach'])) # Should be ['Orange', 'Strawberry', 'Peach']\n",
    "print(skip_elements([])) # Should be []"
   ]
  },
  {
   "cell_type": "markdown",
   "metadata": {},
   "source": [
    "Whenever you need to write a program that'll handle a variable amount of elements, you'll use a list. What if you need a sequence of a fixed amount of elements? That comes in the following content."
   ]
  },
  {
   "cell_type": "markdown",
   "metadata": {},
   "source": [
    "## Summary: Modify the content of a list\n",
    "While lists and strings are both sequences, a big difference between them is that lists are mutable. This means that the contents of the list can be changed, unlike strings, which are immutable. You can add, remove, or modify elements in a list.\n",
    "\n",
    "You can add elements to the end of a list using the append method. You call this method on a list using dot notation, and pass in the element to be added as a parameter. For example, list.append(\"New data\") would add the string \"New data\" to the end of the list called list.\n",
    "\n",
    "If you want to add an element to a list in a specific position, you can use the method insert. The method takes two parameters: the first specifies the index in the list, and the second is the element to be added to the list. So list.insert(0, \"New data\") would add the string \"New data\" to the front of the list. This wouldn't overwrite the existing element at the start of the list. It would just shift all the other elements by one. If you specify an index that’s larger than the length of the list, the element will simply be added to the end of the list.\n",
    "\n",
    "You can remove elements from the list using the remove method. This method takes an element as a parameter, and removes the first occurrence of the element. If the element isn’t found in the list, you’ll get a ValueError error explaining that the element was not found in the list.\n",
    "\n",
    "You can also remove elements from a list using the pop method. This method differs from the remove method in that it takes an index as a parameter, and returns the element that was removed. This can be useful if you don't know what the value is, but you know where it’s located. This can also be useful when you need to access the data and also want to remove it from the list.\n",
    "\n",
    "Finally, you can change an element in a list by using indexing to overwrite the value stored at the specified index. For example, you can enter list[0] = \"Old data\" to overwrite the first element in a list with the new string \"Old data\"."
   ]
  },
  {
   "cell_type": "markdown",
   "metadata": {},
   "source": [
    "### Lists and Tuples\n",
    "\n",
    "**there are a number of data types in Python that are all sequences.**\n",
    "- Strings are sequences of characters and are **immutable**.\n",
    "- Lists are sequences of elements of any type and are **mutable**.\n",
    "- A third data type that's a sequence and also closely related to lists is the tuple.\n",
    "\n",
    "\n",
    "You might be wondering, why do we even need another sequence type? Weren't lists great? Yes, lists are great. They can hold any number of elements and we can add, remove and modify their contents as much as we want, but **there are cases when we want to make sure an element in a certain position or index refers to one specific thing and won't change**. In these situations, lists won't help us. Thanks for nothing lists. \n",
    "\n",
    "In the following example, we have a tuple that represents someone's full name. The **first element of the tuple is the first-name**. **The second element is the middle initial**, and **the third element is the last-name.**"
   ]
  },
  {
   "cell_type": "code",
   "execution_count": 66,
   "metadata": {},
   "outputs": [],
   "source": [
    "fullame = ('Grace' , 'M', 'Hopper')"
   ]
  },
  {
   "cell_type": "markdown",
   "metadata": {},
   "source": [
    "**Tuples usage**\n",
    "\n",
    " Tuples are used for lots of different things in Python. One common example is the return value of functions. When a function returns more than one value, it's actually returning a tuple. Remember the function to convert seconds to hours, minutes, and seconds that we saw a while back? Here just to remind you. This function returns three values. In other words, it returns a tuple of three elements. Let's give it a try.\n",
    " \n",
    " The out put has three elements as we expected. A tuple with three elements\n",
    "1. hours\n",
    "2. muints\n",
    "3. seconds"
   ]
  },
  {
   "cell_type": "code",
   "execution_count": 73,
   "metadata": {},
   "outputs": [
    {
     "name": "stdout",
     "output_type": "stream",
     "text": [
      "(1, 23, 20)\n"
     ]
    }
   ],
   "source": [
    "def convert_seconds(seconds):\n",
    "    hours = seconds // 3600\n",
    "    minuts = (seconds - hours * 3600)// 60\n",
    "    remainig_seconds= seconds - hours * 3600 - minuts * 60 \n",
    "    return hours, minuts, remainig_seconds\n",
    "result = convert_seconds(5000)\n",
    "print(result)"
   ]
  },
  {
   "cell_type": "markdown",
   "metadata": {},
   "source": [
    "**unpack tuples**\n",
    "\n",
    "\n",
    "This means that we can turn a tuple of three elements into three separate variables. Because the order won't change, we know what those variables are present, like this."
   ]
  },
  {
   "cell_type": "code",
   "execution_count": 74,
   "metadata": {},
   "outputs": [
    {
     "name": "stdout",
     "output_type": "stream",
     "text": [
      "1 23 20\n"
     ]
    }
   ],
   "source": [
    "hours, minuts, seconds = result \n",
    "print(hours, minuts, seconds)"
   ]
  },
  {
   "cell_type": "markdown",
   "metadata": {},
   "source": [
    "So now we've split the tuple into three separate values. We've seen before that we can also do this directly when calling the function without the intermediate result variable."
   ]
  },
  {
   "cell_type": "code",
   "execution_count": 75,
   "metadata": {},
   "outputs": [
    {
     "name": "stdout",
     "output_type": "stream",
     "text": [
      "1 23 20\n"
     ]
    }
   ],
   "source": [
    "hours, minuts, seconds = convert_seconds(5000) \n",
    "print(hours, minuts, seconds)"
   ]
  },
  {
   "cell_type": "markdown",
   "metadata": {},
   "source": [
    "In Python, it's really common to use tuples to represent data that has more than one value and that needs to be kept together. For example, you could use a tuple to have a filename and it's size, or you could store the name and email address of a person, or a date and time and the general health of the system at any point in time. Can you see how these different data types could help you automate some of your IT work?"
   ]
  },
  {
   "cell_type": "markdown",
   "metadata": {},
   "source": [
    "Let's use tuples to store information about a file: its name, its type and its size in bytes. Fill in the gaps in this code to return the size in kilobytes (a kilobyte is 1024 bytes) up to 2 decimal places."
   ]
  },
  {
   "cell_type": "code",
   "execution_count": 86,
   "metadata": {},
   "outputs": [
    {
     "name": "stdout",
     "output_type": "stream",
     "text": [
      "17.46\n",
      "0.48\n",
      "1.21\n"
     ]
    }
   ],
   "source": [
    "def file_size(file_info):\n",
    "    name, type, size = file_info\n",
    "    return(\"{:.2f}\".format(size/1024))\n",
    "\n",
    "print(file_size(('Class Assignment', 'docx', 17875))) # Should print 17.46\n",
    "print(file_size(('Notes', 'txt', 496))) # Should print 0.48\n",
    "print(file_size(('Program', 'py', 1239))) # Should print 1.21"
   ]
  },
  {
   "cell_type": "markdown",
   "metadata": {},
   "source": [
    "Knowing when to use tuples and when to use lists can seem a little fuzzy at first, but don't worry, it'll get clearer as we tackle more examples."
   ]
  },
  {
   "cell_type": "markdown",
   "metadata": {},
   "source": [
    "#### Iterating over Lists and Tuples\n",
    "for calculating\n"
   ]
  },
  {
   "cell_type": "code",
   "execution_count": 102,
   "metadata": {},
   "outputs": [
    {
     "name": "stdout",
     "output_type": "stream",
     "text": [
      "Total Characters: 22, Avrange length: 5.5\n"
     ]
    }
   ],
   "source": [
    "animals = [\"Lion\", \"Zebra\", \"Dolphin\", \"Monkey\"]\n",
    "chars = 0\n",
    "for animal in animals:\n",
    "    chars+=len(animal)\n",
    "print(\"Total Characters: {}, Avrange length: {:.1f}\".format(chars, chars/len(animals)))\n"
   ]
  },
  {
   "cell_type": "markdown",
   "metadata": {},
   "source": [
    "What if you wanted to know the index of an element while going through the list? You could use the range function and then use indexing to access the elements at the index that range returned. You could use a range function and then use indexing to access the elements at the index that range just returned or you could just use the **enumerate function**. "
   ]
  },
  {
   "cell_type": "code",
   "execution_count": 103,
   "metadata": {},
   "outputs": [
    {
     "name": "stdout",
     "output_type": "stream",
     "text": [
      "1-Ashley\n",
      "2-Dylan\n",
      "3-Reese\n"
     ]
    }
   ],
   "source": [
    "winners = ['Ashley', 'Dylan', 'Reese']\n",
    "for index, persone in enumerate(winners):\n",
    "    print('{}-{}'.format(index + 1, persone))"
   ]
  },
  {
   "cell_type": "markdown",
   "metadata": {},
   "source": [
    "Try out the enumerate function for yourself in this quick exercise. Complete the skip_elements function to return every other element from the list, this time using the enumerate function to check if an element is on an even position or an odd position."
   ]
  },
  {
   "cell_type": "code",
   "execution_count": 135,
   "metadata": {},
   "outputs": [
    {
     "name": "stdout",
     "output_type": "stream",
     "text": [
      "(0, 'a')\n",
      "(1, 'b')\n",
      "(2, 'c')\n",
      "(3, 'd')\n",
      "(4, 'e')\n",
      "(5, 'f')\n",
      "(6, 'g')\n"
     ]
    }
   ],
   "source": [
    "new_list = []\n",
    "for index, element in enumerate([\"a\", \"b\", \"c\", \"d\", \"e\", \"f\", \"g\"]):\n",
    "    new_list = index, element\n",
    "    print(new_list)"
   ]
  },
  {
   "cell_type": "code",
   "execution_count": 119,
   "metadata": {},
   "outputs": [
    {
     "name": "stdout",
     "output_type": "stream",
     "text": [
      "['a', 'c', 'e', 'g']\n",
      "['Orange', 'Strawberry', 'Peach']\n",
      "[]\n"
     ]
    }
   ],
   "source": [
    "def skip_elements(elements):\n",
    "    new_elements = []\n",
    "    for index, element in enumerate(elements):\n",
    "        if index % 2 == 0:\n",
    "            new_elements.append(element)\n",
    "    return new_elements\n",
    "print(skip_elements([\"a\", \"b\", \"c\", \"d\", \"e\", \"f\", \"g\"])) # Should be ['a', 'c', 'e', 'g']\n",
    "print(skip_elements(['Orange', 'Pineapple', 'Strawberry', 'Kiwi', 'Peach'])) # Should be ['Orange', 'Strawberry', 'Peach']\n",
    "print(skip_elements([])) # Should be []"
   ]
  },
  {
   "cell_type": "markdown",
   "metadata": {},
   "source": [
    "Write a function that creates a new list containing one string per person including their name and the email address between angled brackets. the format usually used in emails like this. So what do we need to do?"
   ]
  },
  {
   "cell_type": "code",
   "execution_count": 128,
   "metadata": {},
   "outputs": [
    {
     "name": "stdout",
     "output_type": "stream",
     "text": [
      "['Morteza Gomes <morteza@example.com>', 'shay Brandt <shay@example.com>']\n"
     ]
    }
   ],
   "source": [
    "def full_emails(people):\n",
    "    result = []\n",
    "    for email, name in people:\n",
    "        result.append(\"{} <{}>\".format(name, email))\n",
    "    return result\n",
    "people = [(\"morteza@example.com\", \"Morteza Gomes\"),(\"shay@example.com\", \"shay Brandt\")]\n",
    "print(full_emails(people))"
   ]
  },
  {
   "cell_type": "markdown",
   "metadata": {},
   "source": [
    "ommon errors when dealing with lists in Python. Because we use the range function so much with for loops, you might be tempted to use it for iterating over indexes of a list and then to access the elements through indexing. You could be particularly inclined to do this if you're used to other programming languages before. Because in some languages, the only way to access an element of a list is by using indexes. \n",
    "\n",
    "\n",
    "Real talk, this works but looks ugly. \n",
    "\n",
    "It's more idiomatic in Python to iterate through the elements of the list directly or using enumerate when you need the indexes like we've done so far. \n",
    "\n",
    "There are some specific cases that do require us to iterate over the indexes, for example, when we're trying to modify the elements of the list we're iterating. \n",
    "\n",
    "\n",
    "By the way, if you're iterating through a list and you want to modify it at the same time, you need to be very careful. If you remove elements from the list while iterating, you're likely to end up with an unexpected result. In this case, it might be better to use a copy of the list instead. We've now seen a bunch of different things we can do with lists, and hopefully you're starting to see how they can be a very powerful tool in your IT specialist toolkit.\n",
    "\n",
    "**Next up, we're going to learn a powerful technique for creating lists.**\n"
   ]
  },
  {
   "cell_type": "markdown",
   "metadata": {},
   "source": [
    "### Summary\n",
    "\n",
    "When we covered for loops, we showed the example of iterating over a list. This lets you iterate over each element in the list, exposing the element to the for loop as a variable. But what if you want to access the elements in a list, along with the index of the element in question? You can do this using the `enumerate()` function. The enumerate() function takes a list as a parameter and returns a tuple for each element in the list. The first value of the tuple is the index and the second value is the element itself."
   ]
  },
  {
   "cell_type": "markdown",
   "metadata": {},
   "source": [
    "### List Comprehension (creating list in a short way)\n",
    "\n",
    "Say we wanted to create a list with multiples of 7 from 7 to 70, we could do it like this\n"
   ]
  },
  {
   "cell_type": "code",
   "execution_count": 142,
   "metadata": {},
   "outputs": [
    {
     "name": "stdout",
     "output_type": "stream",
     "text": [
      "[7, 14, 21, 28, 35, 42, 49, 56, 63, 70]\n"
     ]
    }
   ],
   "source": [
    "multiple = []\n",
    "for x in range(1, 11):\n",
    "    multiple.append(x*7)\n",
    "print(multiple)"
   ]
  },
  {
   "cell_type": "markdown",
   "metadata": {},
   "source": [
    "This works fine and is a good way of solving it. But because creating lists based on sequences is such a common task Python provides a technique called list comprehension, that lets us do it in just one line. This is how we would do the same with list comprehension. "
   ]
  },
  {
   "cell_type": "code",
   "execution_count": 143,
   "metadata": {},
   "outputs": [
    {
     "name": "stdout",
     "output_type": "stream",
     "text": [
      "[7, 14, 21, 28, 35, 42, 49, 56, 63, 70]\n"
     ]
    }
   ],
   "source": [
    "multiple = [x*7 for x in range(1, 11)]\n",
    "print(multiple)"
   ]
  },
  {
   "cell_type": "markdown",
   "metadata": {},
   "source": [
    "**List comprehensions**\n",
    "\n",
    "let us create new lists based on **sequences or ranges**. So we can use this technique whenever we want to create a list based on a range like in this example. Or based on the contents of a list a tuple a string or any other Python sequence.\n",
    "\n",
    "Generate a list of the length of the strings inside the list called language."
   ]
  },
  {
   "cell_type": "code",
   "execution_count": 147,
   "metadata": {},
   "outputs": [
    {
     "name": "stdout",
     "output_type": "stream",
     "text": [
      "[6, 4, 4, 2, 4, 1]\n"
     ]
    }
   ],
   "source": [
    "languages = [\"Python\", \"Perl\", \"Ruby\", \"Go\", \"Java\", \"C\"]\n",
    "length = [len(language) for language in languages]\n",
    "print(length)"
   ]
  },
  {
   "cell_type": "markdown",
   "metadata": {},
   "source": [
    "List comprehensions also let us use a conditional clause. Say we wanted all the numbers that are divisible by 3 between 0 and a 100, we could create a list like this"
   ]
  },
  {
   "cell_type": "code",
   "execution_count": 152,
   "metadata": {},
   "outputs": [
    {
     "name": "stdout",
     "output_type": "stream",
     "text": [
      "[0, 3, 6, 9, 12, 15, 18, 21, 24, 27, 30, 33, 36, 39, 42, 45, 48, 51, 54, 57, 60, 63, 66, 69, 72, 75, 78, 81, 84, 87, 90, 93, 96, 99]\n"
     ]
    }
   ],
   "source": [
    "z = [x for x in range(0, 101) if x % 3 == 0]\n",
    "print(z)"
   ]
  },
  {
   "cell_type": "markdown",
   "metadata": {},
   "source": [
    "The odd_numbers function returns a list of odd numbers between 1 and n, inclusively. Fill in the blanks in the function, using list comprehension. Hint: remember that list and range counters start at 0 and end at the limit minus 1.\n",
    "\n"
   ]
  },
  {
   "cell_type": "code",
   "execution_count": 158,
   "metadata": {},
   "outputs": [
    {
     "name": "stdout",
     "output_type": "stream",
     "text": [
      "[1, 3, 5]\n",
      "[1, 3, 5, 7, 9]\n",
      "[1, 3, 5, 7, 9, 11]\n",
      "[1]\n",
      "[]\n"
     ]
    }
   ],
   "source": [
    "def odd_numbers(n):\n",
    "    odd_list = [x for x in range(1, n+1) if x % 2 != 0]\n",
    "    return odd_list\n",
    "print(odd_numbers(5))  # Should print [1, 3, 5]\n",
    "print(odd_numbers(10)) # Should print [1, 3, 5, 7, 9]\n",
    "print(odd_numbers(11)) # Should print [1, 3, 5, 7, 9, 11]\n",
    "print(odd_numbers(1))  # Should print [1]\n",
    "print(odd_numbers(-1)) # Should print []"
   ]
  },
  {
   "cell_type": "markdown",
   "metadata": {},
   "source": [
    " Using list comprehensions when programming in Python is totally optional. Sometimes it can make the code look nicer and more readable, at other times it can have the opposite effect, especially if we try to pack too much information together. In general, it's a good idea to know that list comprehensions exist, especially when you're trying to understand someone else's code. \n",
    " \n",
    " \n",
    " ### Summaty\n",
    " You can create lists from sequences using a for loop, but there’s a more streamlined way to do this: list comprehension. List comprehensions allow you to create a new list from a sequence or a range in a single line.\n",
    "\n",
    "For example, `[ x*2 for x in range(1,11) ]` is a simple list comprehension. This would iterate over the range 1 to 10, and multiply each element in the range by 2. This would result in a list of the multiples of 2, from 2 to 20.\n",
    "\n",
    "You can also use conditionals with list comprehensions to build even more complex and powerful statements. You can do this by appending an if statement to the end of the comprehension. For example, `[ x for x in range(1,101) if x % 10 == 0 ]` would generate a list containing all the integers divisible by 10 from 1 to 100. The if statement we added here evaluates each value in the range from 1 to 100 to check if it’s evenly divisible by 10. If it is, it gets added to the list.\n",
    "\n",
    "List comprehensions can be really powerful, but they can also be super complex, resulting in code that’s hard to read. Be careful when using them, since it might make it more difficult for someone else looking at your code to easily understand what the code is doing."
   ]
  },
  {
   "cell_type": "markdown",
   "metadata": {},
   "source": [
    "## Lists and Tuples Operations Cheat Sheet\n",
    "Lists and tuples are both sequences, so they share a number of sequence operations. But, because lists are mutable, there are also a number of methods specific just to lists. This cheat sheet gives you a run down of the common operations first, and the list-specific operations second.\n",
    "\n",
    "###### Common sequence operations\n",
    "- len(sequence) Returns the length of the sequence\n",
    "- for element in sequence Iterates over each element in the sequence\n",
    "- if element in sequence Checks whether the element is part of the sequence\n",
    "- sequence[i] Accesses the element at index i of the sequence, starting at zero\n",
    "- sequence[i:j] Accesses a slice starting at index i, ending at index j-1. If i is omitted, it's 0 by default. If j is omitted, it's len(sequence) by default.\n",
    "- for index, element in enumerate(sequence) Iterates over both the indexes and the elements in the sequence at the same time\n",
    "\n",
    "Check out the official documentation for [sequence operations](https://docs.python.org/3/library/stdtypes.html#sequence-types-list-tuple-range).\n",
    "\n",
    "\n",
    "###### List-specific operations and methods\n",
    "- `list[i] = x` Replaces the element at index i with x\n",
    "- `list.append(x)` Inserts x at the end of the list\n",
    "- `list.insert(i, x)` Inserts x at index i\n",
    "- `list.pop(i)` Returns the element a index i, also removing it from the list. If i is omitted, the last element is returned and removed.\n",
    "- `list.remove(x)` Removes the first occurrence of x in the list\n",
    "- `ist.sort()` Sorts the items in the list\n",
    "- `list.reverse()` Reverses the order of items of the list\n",
    "- `list.clear()` Removes all the items of the list\n",
    "- `list.copy()` Creates a copy of the list\n",
    "- `list.extend(other_list)` Appends all the elements of other_list at the end of list\n",
    "\n",
    "Most of these methods come from the fact that lists are mutable sequences. For more info, see the [official documentation](https://docs.python.org/3/library/stdtypes.html#mutable-sequence-types) for mutable sequences and the [list specific documentation](https://docs.python.org/3/library/stdtypes.html#lists).\n",
    "\n",
    "###### List comprehension\n",
    "1. [expression for variable in sequence] Creates a new list based on the given sequence. Each element is the result of the given expression.\n",
    "\n",
    "2. [expression for variable in sequence if condition] Creates a new list based on the given sequence. Each element is the result of the given expression; elements only get added if the condition is true.\n"
   ]
  },
  {
   "cell_type": "markdown",
   "metadata": {},
   "source": [
    "# Practice Quiz: Lists\n",
    "\n",
    "# Q1 \n",
    "\n",
    "Given a list of filenames, we want to rename all the files with extension hpp to the extension h. To do this, we would like to generate a new list called newfilenames, consisting of the new filenames. Fill in the blanks in the code using any of the methods you’ve learned thus far, like a for loop or a list comprehension.\n",
    "\n"
   ]
  },
  {
   "cell_type": "code",
   "execution_count": 222,
   "metadata": {},
   "outputs": [
    {
     "name": "stdout",
     "output_type": "stream",
     "text": [
      "['program.c', 'stdio.h', 'sample.h', 'a.out', 'math.h', 'hpp.out']\n"
     ]
    }
   ],
   "source": [
    "filenames = [\"program.c\", \"stdio.hpp\", \"sample.hpp\", \"a.out\", \"math.hpp\", \"hpp.out\"]\n",
    "# Generate newfilenames as a list containing the new filenames\n",
    "newfilenames = []\n",
    "# using as many lines of code as your chosen method requires.\n",
    "for x in range(len(filenames)):\n",
    "        old_name = filenames[x]\n",
    "        if old_name.endswith(\".hpp\"):\n",
    "            new_name = old_name.replace('.hpp', '.h')\n",
    "            newfilenames.append(new_name)\n",
    "        else:\n",
    "            newfilenames.append(old_name)\n",
    "print(newfilenames)\n",
    "            \n",
    "        \n",
    "# Should be [\"program.c\", \"stdio.h\", \"sample.h\", \"a.out\", \"math.h\", \"hpp.out\"]"
   ]
  },
  {
   "cell_type": "code",
   "execution_count": 227,
   "metadata": {},
   "outputs": [
    {
     "name": "stdout",
     "output_type": "stream",
     "text": [
      "['program.c', 'stdio.h', 'sample.h', 'a.out', 'math.h', 'hpp.out']\n"
     ]
    }
   ],
   "source": [
    "filenames = [\"program.c\", \"stdio.hpp\", \"sample.hpp\", \"a.out\", \"math.hpp\", \"hpp.out\"]\n",
    "newfilenames = []\n",
    "for filename in filenames:\n",
    "    old_name = filename\n",
    "    if old_name.endswith(\".hpp\"):\n",
    "        new_name = old_name.replace('.hpp', '.h')\n",
    "        newfilenames.append(new_name)\n",
    "    else:\n",
    "        newfilenames.append(old_name)\n",
    "print(newfilenames)"
   ]
  },
  {
   "cell_type": "code",
   "execution_count": 223,
   "metadata": {},
   "outputs": [
    {
     "name": "stdout",
     "output_type": "stream",
     "text": [
      "stdio.hpp\n",
      "sample.hpp\n",
      "math.hpp\n",
      "hpp.out\n"
     ]
    }
   ],
   "source": [
    "filenames = [\"program.c\", \"stdio.hpp\", \"sample.hpp\", \"a.out\", \"math.hpp\", \"hpp.out\"]\n",
    "test = []\n",
    "for filename in filenames:\n",
    "    if \"hpp\" in filename:\n",
    "        print(filename)  \n",
    "    "
   ]
  },
  {
   "cell_type": "markdown",
   "metadata": {},
   "source": [
    "# Q2\n",
    "Let's create a function that turns text into pig latin: a simple text transformation that modifies each word moving the first character to the end and appending \"ay\" to the end. For example, python ends up as ythonpay.\n"
   ]
  },
  {
   "cell_type": "code",
   "execution_count": 230,
   "metadata": {},
   "outputs": [
    {
     "name": "stdout",
     "output_type": "stream",
     "text": [
      "ellohay owhay reaay ouyay\n",
      "rogrammingpay niay ythonpay siay unfay\n"
     ]
    }
   ],
   "source": [
    "def pig_latin(text):\n",
    "  say = []\n",
    "  # Separate the text into words\n",
    "  words = text.split()\n",
    "  for word in words:\n",
    "    # Create the pig latin word and add it to the list\n",
    "    word  = word[1:] + word[0] + 'ay'\n",
    "    say.append(word)\n",
    "    # Turn the list back into a phrase\n",
    "  return ' '.join(say)\n",
    "\t\t\n",
    "print(pig_latin(\"hello how are you\")) # Should be \"ellohay owhay reaay ouyay\"\n",
    "print(pig_latin(\"programming in python is fun\")) # Should be \"rogrammingpay niay ythonpay siay unfay\""
   ]
  },
  {
   "cell_type": "code",
   "execution_count": 233,
   "metadata": {},
   "outputs": [
    {
     "name": "stdout",
     "output_type": "stream",
     "text": [
      "ellohay owhay reaay ouyay\n",
      "rogrammingpay niay ythonpay siay unfay\n"
     ]
    }
   ],
   "source": [
    "def pig_latin(text):\n",
    "    pigged_text = []\n",
    "    for word in text.split(\" \"):\n",
    "        word = word[1:] + word[0] + \"ay\"\n",
    "        pigged_text.append(word)\n",
    "    return \" \".join(pigged_text)\n",
    "\t\t\n",
    "print(pig_latin(\"hello how are you\")) # Should be \"ellohay owhay reaay ouyay\"\n",
    "print(pig_latin(\"programming in python is fun\")) # Should be \"rogrammingpay niay ythonpay siay unfay\""
   ]
  },
  {
   "cell_type": "markdown",
   "metadata": {},
   "source": [
    "# Q3\n",
    "The permissions of a file in a Linux system are split into three sets of three permissions: read, write, and execute for the owner, group, and others. Each of the three values can be expressed as an octal number summing each permission, with `4 corresponding to read`, `2 to write`, and `1 to execute`. Or it can be written with a string using the letters `r`, `w`, and `x` or `-` when the permission is not granted. For example: `640` is `read/write` for the `owner`, `read` for the `group`, and `no permissions` for the `others`; converted to a string, it would be: `\"rw-r-----\" `755 is read/write/execute for the owner, and read/execute for group and others; converted to a string, it would be: `\"rwxr-xr-x\"` Fill in the blanks to make the code convert a permission in octal format into a string format.\n",
    "\n"
   ]
  },
  {
   "cell_type": "code",
   "execution_count": 295,
   "metadata": {},
   "outputs": [
    {
     "name": "stdout",
     "output_type": "stream",
     "text": [
      "rwxr-xr-x\n",
      "rw-r--r--\n",
      "rwxr-x---\n",
      "rw-------\n"
     ]
    }
   ],
   "source": [
    "def octal_to_string(octal):\n",
    "    result = \"\"\n",
    "    value_letters = [(4,\"r\"),(2,\"w\"),(1,\"x\")]\n",
    "    # Iterate over each of the digits in octal\n",
    "    for digit in [int(n) for n in str(octal)]:\n",
    "        # Check for each of the permissions values\n",
    "        for value, letter in value_letters:\n",
    "            if digit >= value:\n",
    "                result += letter\n",
    "                digit -= value\n",
    "            else:\n",
    "                result+='-'\n",
    "    return result\n",
    "    \n",
    "print(octal_to_string(755)) # Should be rwxr-xr-x\n",
    "print(octal_to_string(644)) # Should be rw-r--r--\n",
    "print(octal_to_string(750)) # Should be rwxr-x---\n",
    "print(octal_to_string(600)) # Should be rw-------"
   ]
  },
  {
   "cell_type": "code",
   "execution_count": 274,
   "metadata": {},
   "outputs": [
    {
     "name": "stdout",
     "output_type": "stream",
     "text": [
      "7\n",
      "5\n",
      "5\n"
     ]
    }
   ],
   "source": [
    "octal = 755\n",
    "for digit in [int(n) for n in str(octal)]:\n",
    "    print(digit)"
   ]
  },
  {
   "cell_type": "code",
   "execution_count": 273,
   "metadata": {},
   "outputs": [
    {
     "name": "stdout",
     "output_type": "stream",
     "text": [
      "4 r\n",
      "2 w\n",
      "1 x\n"
     ]
    }
   ],
   "source": [
    "value_latters = [(4, 'r'), (2, 'w'), (1, 'x')]\n",
    "for value, latter in value_latters:\n",
    "    print(value, latter)"
   ]
  },
  {
   "cell_type": "markdown",
   "metadata": {},
   "source": [
    "# Q4\n",
    "Tuples and lists are very similar types of sequences. What is the main thing that makes a tuple different from a list?\n",
    "\n",
    "\n",
    "![](Img\\tuplesVSlist.PNG)"
   ]
  },
  {
   "cell_type": "markdown",
   "metadata": {},
   "source": [
    "# Q5\n",
    "The group_list function accepts a group name and a list of members, and returns a string with the format: group_name: member1, member2, … For example, `group_list(\"g\", [\"a\",\"b\",\"c\"])` returns `\"g: a, b, c\"`. Fill in the gaps in this function to do that.\n",
    "\n"
   ]
  },
  {
   "cell_type": "code",
   "execution_count": 292,
   "metadata": {},
   "outputs": [
    {
     "name": "stdout",
     "output_type": "stream",
     "text": [
      "Marketing: Mike, Karen, Jake, Tasha\n",
      "Engineering: Kim, Jay, Tom\n",
      "Users: \n"
     ]
    }
   ],
   "source": [
    "def group_list(group, users):\n",
    "    members = \", \".join(users)\n",
    "    return group + ': ' + members\n",
    "    \n",
    "print(group_list(\"Marketing\", [\"Mike\", \"Karen\", \"Jake\", \"Tasha\"])) # Should be \"Marketing: Mike, Karen, Jake, Tasha\"\n",
    "print(group_list(\"Engineering\", [\"Kim\", \"Jay\", \"Tom\"])) # Should be \"Engineering: Kim, Jay, Tom\"\n",
    "print(group_list(\"Users\", \"\")) # Should be \"Users:\""
   ]
  },
  {
   "cell_type": "markdown",
   "metadata": {},
   "source": [
    " # Q5\n",
    "The guest_list function reads in a list of tuples with the name, age, and profession of each party guest, and prints the sentence `\"Guest is X years old and works as __.\"` for each one. For example, `guest_list(('Ken', 30, \"Chef\"), (\"Pat\", 35, 'Lawyer'), ('Amanda', 25, \"Engineer\"))` should print out: `Ken is 30 years old and works as Chef.` `Pat is 35 years old and works as Lawyer.` `Amanda is 25 years old and works as Engineer.` Fill in the gaps in this function to do that.\n",
    "\n"
   ]
  },
  {
   "cell_type": "code",
   "execution_count": 399,
   "metadata": {},
   "outputs": [
    {
     "name": "stdout",
     "output_type": "stream",
     "text": [
      "Ken is 30 years old and works as Chef\n",
      "Pat is 35 years old and works as Lawyer\n",
      "Amanda is 25 years old and works as Engineer\n"
     ]
    }
   ],
   "source": [
    "def guest_list(guests):\n",
    "\tfor guest in guests:\n",
    "\t\tname, age, role  = guest\n",
    "\t\tprint(\"{name} is {age} years old and works as {role}\".format(name=name, age=age, role=role))\n",
    "\n",
    "guest_list([('Ken', 30, \"Chef\"), (\"Pat\", 35, 'Lawyer'), ('Amanda', 25, \"Engineer\")])\n"
   ]
  },
  {
   "cell_type": "markdown",
   "metadata": {},
   "source": [
    "# Dictionary\n",
    "\n",
    "- Like lists, dictionaries are used to organize elements into collections. \n",
    "- Unlike lists, you don't access elements inside dictionaries using their position.\n",
    "- **Instead, the data inside dictionaries take the form of pairs of keys and values**.\n",
    "- To get a dictionary value we use its corresponding key.\n",
    "- Another way these two vary is while in a list the index must be a number, in a dictionary you can use a bunch of different data types as keys, like strings, integers, floats, tuples, and more.\n",
    "\n",
    "- The name dictionaries comes from how they work in a similar way to **human language dictionaries**. In an English language dictionary the **word comes with a definition**.\n",
    "\n",
    "- **In the language of a Python dictionary, the word would be the key and the definition would be the value.**"
   ]
  },
  {
   "cell_type": "code",
   "execution_count": 403,
   "metadata": {},
   "outputs": [
    {
     "data": {
      "text/plain": [
       "dict"
      ]
     },
     "execution_count": 403,
     "metadata": {},
     "output_type": "execute_result"
    }
   ],
   "source": [
    "x = {}\n",
    "type(x)"
   ]
  },
  {
   "cell_type": "markdown",
   "metadata": {},
   "source": [
    "- Creating initialized dictionaries isn't too different from the syntax we used in earlier videos to create initialized lists or tuples.\n",
    "\n",
    "- But instead of a series of slots with values in them, we have a series of keys that point at values. Okay, let's check out an example dictionary.\n",
    "\n",
    "\n",
    "\n",
    "\n",
    "In a dictionary, it's perfectly fine to mix and match the data types of keys and values like this and can be very useful. In this example, we're using a dictionary to store the number of files corresponding to each extension. It makes sense to encode the file extension formatting in a string, while it's natural to represent a count as an integer number. Let's say you want to find out how many text files there are in the dictionary. To do this, you would use the key txt to access its associated value. The syntax to do this may look familiar, since we used something similar in our examples of indexing strings, lists, and tuples."
   ]
  },
  {
   "cell_type": "code",
   "execution_count": 406,
   "metadata": {},
   "outputs": [
    {
     "name": "stdout",
     "output_type": "stream",
     "text": [
      "{'jpeg': 10, 'txt': 14, 'csv': 2, 'py': 23}\n"
     ]
    }
   ],
   "source": [
    "file_counts ={\"jpeg\":10, \"txt\":14, \"csv\":2, \"py\":23}\n",
    "print(file_counts)"
   ]
  },
  {
   "cell_type": "markdown",
   "metadata": {},
   "source": [
    "\n",
    "In this file_counts dictionary, we've stored keys that are strings, like jpg, that point at integer values, like 10. When creating the dictionary we use colons and between the key and the value and separate each pair by commas. In a dictionary, it's perfectly fine to mix and match the data types of keys and values like this and can be very useful."
   ]
  },
  {
   "cell_type": "code",
   "execution_count": 407,
   "metadata": {},
   "outputs": [
    {
     "data": {
      "text/plain": [
       "14"
      ]
     },
     "execution_count": 407,
     "metadata": {},
     "output_type": "execute_result"
    }
   ],
   "source": [
    "file_counts['txt']"
   ]
  },
  {
   "cell_type": "code",
   "execution_count": 410,
   "metadata": {},
   "outputs": [
    {
     "data": {
      "text/plain": [
       "True"
      ]
     },
     "execution_count": 410,
     "metadata": {},
     "output_type": "execute_result"
    }
   ],
   "source": [
    "\"jpeg\" in file_counts"
   ]
  },
  {
   "cell_type": "code",
   "execution_count": 411,
   "metadata": {},
   "outputs": [
    {
     "data": {
      "text/plain": [
       "False"
      ]
     },
     "execution_count": 411,
     "metadata": {},
     "output_type": "execute_result"
    }
   ],
   "source": [
    "'html' in file_counts"
   ]
  },
  {
   "cell_type": "markdown",
   "metadata": {},
   "source": [
    "Dictinaries are Mutable. \n",
    "\n",
    "You can create add, remove and replace entries"
   ]
  },
  {
   "cell_type": "code",
   "execution_count": 412,
   "metadata": {},
   "outputs": [
    {
     "name": "stdout",
     "output_type": "stream",
     "text": [
      "{'jpeg': 10, 'txt': 14, 'csv': 2, 'py': 23, 'cfg': 8}\n"
     ]
    }
   ],
   "source": [
    "file_counts['cfg'] = 8\n",
    "print(file_counts)"
   ]
  },
  {
   "cell_type": "markdown",
   "metadata": {},
   "source": [
    "What if we have the same key name avilable in the dictianry while adding a new entry?\n",
    "Here, check it out!\n",
    "This will replace the value for the same key in dictinary"
   ]
  },
  {
   "cell_type": "code",
   "execution_count": 413,
   "metadata": {},
   "outputs": [
    {
     "name": "stdout",
     "output_type": "stream",
     "text": [
      "{'jpeg': 10, 'txt': 14, 'csv': 10, 'py': 23, 'cfg': 8}\n"
     ]
    }
   ],
   "source": [
    "file_counts['csv'] = 10\n",
    "print(file_counts)"
   ]
  },
  {
   "cell_type": "markdown",
   "metadata": {},
   "source": [
    "Last off, we can delete elements from a dictionary with the del keyword by passing the dictionary and the key to the element as if we were trying to access it"
   ]
  },
  {
   "cell_type": "code",
   "execution_count": 426,
   "metadata": {},
   "outputs": [
    {
     "name": "stdout",
     "output_type": "stream",
     "text": [
      "{'jpeg': 10, 'txt': 14, 'csv': 10, 'py': 23}\n"
     ]
    }
   ],
   "source": [
    "del file_counts['cfg']\n",
    "print(file_counts)"
   ]
  },
  {
   "cell_type": "markdown",
   "metadata": {},
   "source": [
    "The \"toc\" dictionary represents the table of contents for a book. Fill in the blanks to do the following: \n",
    "\n",
    "- 1) Add an entry for Epilogue on page 39. \n",
    "- 2) Change the page number for Chapter 3 to 24. \n",
    "- 3) Display the new dictionary contents. \n",
    "- 4) Display True if there is Chapter 5, False if there\n",
    "isn't."
   ]
  },
  {
   "cell_type": "code",
   "execution_count": 427,
   "metadata": {},
   "outputs": [
    {
     "name": "stdout",
     "output_type": "stream",
     "text": [
      "{'Introduction': 1, 'Chapter 1': 4, 'Chapter 2': 11, 'Chapter 3': 25, 'Chapter 4': 30, 'Epilogue': 39}\n"
     ]
    }
   ],
   "source": [
    "toc = {\"Introduction\":1, \"Chapter 1\":4, \"Chapter 2\":11, \"Chapter 3\":25, \"Chapter 4\":30}\n",
    "toc['Epilogue']=39 # Epilogue starts on page 39\n",
    "print(toc)"
   ]
  },
  {
   "cell_type": "code",
   "execution_count": 428,
   "metadata": {},
   "outputs": [
    {
     "name": "stdout",
     "output_type": "stream",
     "text": [
      "{'Introduction': 1, 'Chapter 1': 4, 'Chapter 2': 11, 'Chapter 3': 24, 'Chapter 4': 30, 'Epilogue': 39}\n"
     ]
    }
   ],
   "source": [
    "toc['Chapter 3']=24 # Chapter 3 now starts on page 24\n",
    "print(toc)"
   ]
  },
  {
   "cell_type": "code",
   "execution_count": 429,
   "metadata": {},
   "outputs": [
    {
     "name": "stdout",
     "output_type": "stream",
     "text": [
      "{'Introduction': 1, 'Chapter 1': 4, 'Chapter 2': 11, 'Chapter 3': 24, 'Chapter 4': 30, 'Epilogue': 39}\n"
     ]
    }
   ],
   "source": [
    "print(toc) # What are the current contents of the dictionary?"
   ]
  },
  {
   "cell_type": "code",
   "execution_count": 431,
   "metadata": {},
   "outputs": [
    {
     "name": "stdout",
     "output_type": "stream",
     "text": [
      "False\n"
     ]
    }
   ],
   "source": [
    "if 'chapter 5' in toc:\n",
    "    print(True)\n",
    "else:\n",
    "    print(False)"
   ]
  },
  {
   "cell_type": "markdown",
   "metadata": {},
   "source": [
    "# Sumaries Dictionaries\n",
    "Dictionaries are another data structure in Python. They’re similar to a list in that they can be used to organize data into collections. However, data in a dictionary isn't accessed based on its position. Data in a dictionary is organized into pairs of keys and values. You use the key to access the corresponding value. Where a list index is always a number, a dictionary key can be a different data type, like a string, integer, float, or even tuples.\n",
    "\n",
    "When creating a dictionary, you use curly brackets: `{}`. When storing values in a dictionary, the key is specified first, followed by the corresponding value, separated by a colon. For example, `animals = { \"bears\":10, \"lions\":1, \"tigers\":2 }` creates a dictionary with three key value pairs, stored in the variable animals. The key \"bears\" points to the integer value 10, while the key \"lions\" points to the integer value 1, and \"tigers\" points to the integer 2. You can access the values by referencing the key, like this: `animals[\"bears\"]`. This would return the integer 10, since that’s the corresponding value for this key.\n",
    "\n",
    "You can also check if a key is contained in a dictionary using the in keyword. Just like other uses of this keyword, it will return True if the key is found in the dictionary; otherwise it will return False.\n",
    "\n",
    "Dictionaries are mutable, meaning they can be modified by adding, removing, and replacing elements in a dictionary, similar to lists. You can add a new key value pair to a dictionary by assigning a value to the key, like this: `animals[\"zebras\"] = 2`. This creates the new key in the animal dictionary called zebras, and stores the value 2. You can modify the value of an existing key by doing the same thing. So `animals[\"bears\"] = 11` would change the value stored in the bears key from 10 to 11. Lastly, you can remove elements from a dictionary by using the del keyword. By doing `del animals[\"lions\"]` you would remove the key value pair from the animals dictionary."
   ]
  },
  {
   "cell_type": "markdown",
   "metadata": {},
   "source": [
    "#### Iterating over the Contents of a Dictionary\n"
   ]
  },
  {
   "cell_type": "code",
   "execution_count": 433,
   "metadata": {},
   "outputs": [
    {
     "name": "stdout",
     "output_type": "stream",
     "text": [
      "jpeg\n",
      "txt\n",
      "csv\n",
      "py\n"
     ]
    }
   ],
   "source": [
    "file_counts ={\"jpeg\":10, \"txt\":14, \"csv\":2, \"py\":23}\n",
    "for extention in file_counts:\n",
    "    print(extention)"
   ]
  },
  {
   "cell_type": "markdown",
   "metadata": {},
   "source": [
    "- Use `items` to get key value pairs\n",
    "- `keys` to get the keys\n",
    "- `values` to get just the values."
   ]
  },
  {
   "cell_type": "code",
   "execution_count": 439,
   "metadata": {},
   "outputs": [
    {
     "name": "stdout",
     "output_type": "stream",
     "text": [
      "There are 10 files with the .jpeg extention\n",
      "There are 14 files with the .txt extention\n",
      "There are 2 files with the .csv extention\n",
      "There are 23 files with the .py extention\n"
     ]
    }
   ],
   "source": [
    "for ext, amount in file_counts.items():\n",
    "    print(\"There are {} files with the .{} extention\".format(amount, ext))"
   ]
  },
  {
   "cell_type": "markdown",
   "metadata": {},
   "source": [
    "- Access to value or keys"
   ]
  },
  {
   "cell_type": "code",
   "execution_count": 440,
   "metadata": {},
   "outputs": [
    {
     "data": {
      "text/plain": [
       "dict_values([10, 14, 2, 23])"
      ]
     },
     "execution_count": 440,
     "metadata": {},
     "output_type": "execute_result"
    }
   ],
   "source": [
    "file_counts.values()"
   ]
  },
  {
   "cell_type": "code",
   "execution_count": 443,
   "metadata": {},
   "outputs": [
    {
     "data": {
      "text/plain": [
       "dict_keys(['jpeg', 'txt', 'csv', 'py'])"
      ]
     },
     "execution_count": 443,
     "metadata": {},
     "output_type": "execute_result"
    }
   ],
   "source": [
    "file_counts.keys()"
   ]
  },
  {
   "cell_type": "markdown",
   "metadata": {},
   "source": [
    "These methods return special data types related to the dictionary, but you don't need to worry about what they are exactly. You just need to iterate them as you would with any sequence"
   ]
  },
  {
   "cell_type": "code",
   "execution_count": 447,
   "metadata": {},
   "outputs": [
    {
     "name": "stdout",
     "output_type": "stream",
     "text": [
      "10\n",
      "14\n",
      "2\n",
      "23\n"
     ]
    }
   ],
   "source": [
    "for value in file_counts.values():\n",
    "    print(value)"
   ]
  },
  {
   "cell_type": "markdown",
   "metadata": {},
   "source": [
    "Now, it's your turn! Have a go at iterating over a dictionary!\n",
    "\n",
    "Complete the code to iterate through the keys and values of the cool_beasts dictionary. Remember that the items method returns a tuple of key, value for each element in the dictionary.\n",
    "\n"
   ]
  },
  {
   "cell_type": "code",
   "execution_count": 449,
   "metadata": {},
   "outputs": [
    {
     "name": "stdout",
     "output_type": "stream",
     "text": [
      "octopuses have tentacles\n",
      "dolphins have fins\n",
      "rhinos have horns\n"
     ]
    }
   ],
   "source": [
    "cool_beasts = {\"octopuses\":\"tentacles\", \"dolphins\":\"fins\", \"rhinos\":\"horns\"}\n",
    "for key, value in cool_beasts.items():\n",
    "    print(\"{} have {}\".format(key, value))"
   ]
  },
  {
   "cell_type": "markdown",
   "metadata": {},
   "source": [
    "Because we know that each key can be present only once, dictionaries are a great tool for counting elements and analyzing frequency. Let's check out a simple example of counting how many times each letter appears in a piece of text."
   ]
  },
  {
   "cell_type": "code",
   "execution_count": 829,
   "metadata": {},
   "outputs": [
    {
     "data": {
      "text/plain": [
       "{'a': 5}"
      ]
     },
     "execution_count": 829,
     "metadata": {},
     "output_type": "execute_result"
    }
   ],
   "source": [
    "def count_letters(text):\n",
    "    result = {}\n",
    "    for letter in text:\n",
    "        if letter not in result:\n",
    "            result[letter] = 0 \n",
    "        result[letter] += 1\n",
    "    return result\n",
    "count_letters(\"aaaaa\")"
   ]
  },
  {
   "cell_type": "code",
   "execution_count": 452,
   "metadata": {},
   "outputs": [
    {
     "data": {
      "text/plain": [
       "{'t': 2, 'e': 1, 'n': 2, 'a': 1}"
      ]
     },
     "execution_count": 452,
     "metadata": {},
     "output_type": "execute_result"
    }
   ],
   "source": [
    "count_letters(\"tenant\")"
   ]
  },
  {
   "cell_type": "code",
   "execution_count": 455,
   "metadata": {},
   "outputs": [
    {
     "name": "stdout",
     "output_type": "stream",
     "text": [
      "{'a': 2, ' ': 6, 'l': 3, 'o': 2, 'n': 3, 'g': 3, 's': 2, 't': 4, 'r': 2, 'i': 2, 'w': 1, 'h': 1, 'e': 2} "
     ]
    }
   ],
   "source": [
    "print(count_letters(\"a long string with a long letters\"), end= ' ')"
   ]
  },
  {
   "cell_type": "markdown",
   "metadata": {},
   "source": [
    "To only count the letters, we'd need to specify which characters we're taking into account. This technique might seem simple at first, but it can be really useful in a lot of cases. Let's say for example that you're analyzing logs in your server and you want to count how many times each type of error appears in the log file. You could easily do this with a dictionary by using the type of error as the key and then incrementing the associated value each time you come across that error type. Are you starting to see how dictionaries can be a really useful tool when writing scripts? \n",
    "\n",
    " #### Coming up, we're going to learn how to tell when to use dictionaries and when to use lists."
   ]
  },
  {
   "cell_type": "markdown",
   "metadata": {},
   "source": [
    "#### Dictionaries vs. Lists\n"
   ]
  },
  {
   "cell_type": "code",
   "execution_count": 459,
   "metadata": {},
   "outputs": [
    {
     "name": "stdout",
     "output_type": "stream",
     "text": [
      "('router', '192.168.1.1')\n",
      "('localhost', '127.0.0.1')\n",
      "('google', '127.0.0.1')\n"
     ]
    }
   ],
   "source": [
    "ip_address = [\"192.168.1.1\", \"127.0.0.1\", \"8.8.8.8\"]\n",
    "host_address = {\"router\": \"192.168.1.1\", \"localhost\":\"127.0.0.1\", \"google\":\"127.0.0.1\"}\n",
    "for i in host_address.items():\n",
    "    print(i)"
   ]
  },
  {
   "cell_type": "code",
   "execution_count": 468,
   "metadata": {},
   "outputs": [
    {
     "name": "stdout",
     "output_type": "stream",
     "text": [
      "shirt\n",
      "jeans\n"
     ]
    }
   ],
   "source": [
    "wardrobe = {\"shirt\":[\"red\",\"blue\",\"white\"], \"jeans\":[\"blue\",\"black\"]}\n",
    "for item in wardrobe.keys():\n",
    "    print(item)"
   ]
  },
  {
   "cell_type": "markdown",
   "metadata": {},
   "source": [
    "In Python, a dictionary can only hold a single value for a given key. To workaround this, our single value can be a list containing multiple values. Here we have a dictionary called \"wardrobe\" with items of clothing and their colors. Fill in the blanks to print a line for each item of clothing with each color, for example: \"red shirt\", \"blue shirt\", and so on."
   ]
  },
  {
   "cell_type": "code",
   "execution_count": 471,
   "metadata": {},
   "outputs": [
    {
     "name": "stdout",
     "output_type": "stream",
     "text": [
      "red shirt\n",
      "blue shirt\n",
      "white shirt\n",
      "blue jeans\n",
      "black jeans\n"
     ]
    }
   ],
   "source": [
    "wardrobe = {\"shirt\":[\"red\",\"blue\",\"white\"], \"jeans\":[\"blue\",\"black\"]}\n",
    "for item, colors in wardrobe.items():\n",
    "    for color in colors:\n",
    "        print(\"{} {}\".format(color, item))"
   ]
  },
  {
   "cell_type": "markdown",
   "metadata": {},
   "source": [
    "There are even more data types available that we haven't checked out yet. \n",
    "\n",
    "- One of these data types is a set which is a bit like a cross between a list and a dictionary.\n",
    "\n",
    "- A set is used when you want to store a bunch of elements and be certain that there are only present once. \n",
    "\n",
    "- Elements of a set must also be immutable.\n",
    "\n",
    "- You can think of this as the keys of a dictionary with no associated values or you could see it as a list where what matters isn't the order of the elements but whether an element is in the list or not."
   ]
  },
  {
   "cell_type": "markdown",
   "metadata": {},
   "source": [
    "### Dictionary Methods Cheat Sheet\n",
    "\n",
    "- Definition\n",
    "`x = {key1:value1, key2:value2}`\n",
    "\n",
    "- Operations\n",
    "     - `len(dictionary)` Returns the number of items in the dictionary\n",
    "     - `for key in dictionary` Iterates over each key in the dictionary\n",
    "     - for key, value in `dictionary.items()` - Iterates over each key,value pair in the dictionary\n",
    "     - if key in dictionary - Checks whether the key is in the dictionary\n",
    "     - `dictionary[key]` - Accesses the item with key key of the dictionary\n",
    "     - `dictionary[key] = value` - Sets the value associated with key\n",
    "     - `del dictionary[key]` - Removes the item with key key from the dictionary\n",
    "\n",
    "     \n",
    "     \n",
    "- Methods\n",
    "     - `dict.get(key, default)` - Returns the element corresponding to key, or default if it's not present\n",
    "     - `dict.keys()` - Returns a sequence containing the keys in the dictionary\n",
    "     - `dict.values()` - Returns a sequence containing the values in the dictionary\n",
    "     - `dict.update(other_dictionary)` - Updates the dictionary with the items coming from the other dictionary. Existing entries will be replaced; new entries will be added.\n",
    "     - `dict.clear()` - Removes all the items of the dictionary\n",
    "     \n",
    "Check out the [official documentation for dictionary operations and methods](https://docs.python.org/3/library/stdtypes.html#mapping-types-dict).\n",
    "\n",
    "\n"
   ]
  },
  {
   "cell_type": "markdown",
   "metadata": {},
   "source": [
    "# Practice Quiz: Dictionaries\n",
    "# Q1\n",
    "The email_list function receives a dictionary, which contains domain names as keys, and a list of users as values. Fill in the blanks to generate a list that contains complete email addresses (e.g. diana.prince@gmail.com).\n",
    "\n"
   ]
  },
  {
   "cell_type": "code",
   "execution_count": 511,
   "metadata": {},
   "outputs": [
    {
     "name": "stdout",
     "output_type": "stream",
     "text": [
      "['clark.kent@gmail.com', 'diana.prince@gmail.com', 'peter.parker@gmail.com', 'barbara.gordon@yahoo.com', 'jean.grey@yahoo.com', 'bruce.wayne@hotmail.com']\n"
     ]
    }
   ],
   "source": [
    "def email_list(dictionary):\n",
    "    emails = []\n",
    "    for domain,users in dictionary.items():\n",
    "        for user in users:\n",
    "            emails.append(user + \"@\" + domain)\n",
    "    return emails        \n",
    "print(email_list({\"gmail.com\": [\"clark.kent\", \"diana.prince\", \"peter.parker\"], \n",
    "                  \"yahoo.com\": [\"barbara.gordon\", \"jean.grey\"], \"hotmail.com\": [\"bruce.wayne\"]}))"
   ]
  },
  {
   "cell_type": "code",
   "execution_count": 510,
   "metadata": {},
   "outputs": [
    {
     "name": "stdout",
     "output_type": "stream",
     "text": [
      "clark.kent@gmail.com\n",
      "diana.prince@gmail.com\n",
      "peter.parker@gmail.com\n",
      "barbara.gordon@yahoo.com\n",
      "jean.grey@yahoo.com\n",
      "bruce.wayne@hotmail.com\n"
     ]
    }
   ],
   "source": [
    "dic = {\"gmail.com\": [\"clark.kent\", \"diana.prince\", \"peter.parker\"], \n",
    "                  \"yahoo.com\": [\"barbara.gordon\", \"jean.grey\"], \"hotmail.com\": [\"bruce.wayne\"]}\n",
    "\n",
    "for domain, users in dic.items():\n",
    "    for user in users:\n",
    "        print(\"{}@{}\".format(user, domain))"
   ]
  },
  {
   "cell_type": "markdown",
   "metadata": {},
   "source": [
    "# Q2\n",
    "\n",
    "The groups_per_user function receives a dictionary, which contains group names with the list of users. Users can belong to multiple groups. Fill in the blanks to return a dictionary with the users as keys and a list of their groups as values.\n",
    "\n"
   ]
  },
  {
   "cell_type": "code",
   "execution_count": 522,
   "metadata": {},
   "outputs": [
    {
     "name": "stdout",
     "output_type": "stream",
     "text": [
      "{'admin': ['local', 'public', 'administrator'], 'userA': ['local'], 'userB': ['public']}\n"
     ]
    }
   ],
   "source": [
    "def groups_per_user(group_dictionary):\n",
    "    user_groups = {}\n",
    "    # Go through group_dictionary\n",
    "    for groups, users in group_dictionary.items():\n",
    "        # Now go through the users in the group\n",
    "        for user in users:\n",
    "     # Now add the group to the the list of\n",
    "            # groups for this user, creating the entry\n",
    "            # in the dictionary if necessary\n",
    "            if user in user_groups:\n",
    "                user_groups[user].append(groups)\n",
    "            else:\n",
    "                user_groups[user]=[groups]\n",
    "    return(user_groups)\n",
    "\n",
    "print(groups_per_user({\"local\": [\"admin\", \"userA\"],\n",
    "\t\t\"public\":  [\"admin\", \"userB\"],\n",
    "\t\t\"administrator\": [\"admin\"] }))"
   ]
  },
  {
   "cell_type": "code",
   "execution_count": 578,
   "metadata": {},
   "outputs": [
    {
     "name": "stdout",
     "output_type": "stream",
     "text": [
      "{'local': ['admin', 'userA'], 'public': ['admin', 'userB'], 'administrator': ['admin']}\n"
     ]
    }
   ],
   "source": [
    "def user_per_group(user_dictionary):\n",
    "    group_users = {}\n",
    "    for users, groups in user_dictionary.items():\n",
    "        for group in groups:\n",
    "            if group in group_users:\n",
    "                group_users[group].append(users)\n",
    "            else:\n",
    "                group_users[group] = [users]\n",
    "    return group_users\n",
    "\n",
    "print(user_per_group({'admin': ['local', 'public', 'administrator'], \n",
    "                      'userA': ['local'], 'userB': ['public']}))"
   ]
  },
  {
   "cell_type": "markdown",
   "metadata": {},
   "source": [
    "# Q3\n",
    "The dict.update method updates one dictionary with the items coming from the other dictionary, so that existing entries are replaced and new entries are added. What is the content of the dictionary “wardrobe“ at the end of the following code?\n",
    "\n"
   ]
  },
  {
   "cell_type": "code",
   "execution_count": 583,
   "metadata": {},
   "outputs": [
    {
     "name": "stdout",
     "output_type": "stream",
     "text": [
      "{'shirt': ['red', 'blue', 'white'], 'jeans': ['white'], 'scarf': ['yellow'], 'socks': ['black', 'brown']}\n"
     ]
    }
   ],
   "source": [
    "wardrobe = {'shirt': ['red', 'blue', 'white'], 'jeans': ['blue', 'black']}\n",
    "new_items = {'jeans': ['white'], 'scarf': ['yellow'], 'socks': ['black', 'brown']}\n",
    "wardrobe.update(new_items)\n",
    "print(wardrobe)"
   ]
  },
  {
   "cell_type": "markdown",
   "metadata": {},
   "source": [
    "# Q4\n",
    "What’s a major advantage of using dictionaries over lists?\n",
    "\n",
    "\n",
    "1. Dictionaries are ordered sets\n",
    "\n",
    "2. Dictionaries can be accessed by the index number of the element\n",
    "\n",
    "3. Elements can be removed and inserted into dictionaries\n",
    "\n",
    "4. It’s quicker and easier to find a specific element in a dictionary\n",
    "\n"
   ]
  },
  {
   "cell_type": "markdown",
   "metadata": {},
   "source": [
    "# Q5\n",
    "\n",
    "The add_prices function returns the total price of all of the groceries in the dictionary. Fill in the blanks to complete this function.\n",
    "\n"
   ]
  },
  {
   "cell_type": "code",
   "execution_count": 588,
   "metadata": {},
   "outputs": [
    {
     "name": "stdout",
     "output_type": "stream",
     "text": [
      "28.44\n"
     ]
    }
   ],
   "source": [
    "def add_prices(basket):\n",
    "    total = 0\n",
    "    for product, prices in basket.items():\n",
    "        for price in [prices]:\n",
    "            total += price\n",
    "#    return (\"{:.2f}\".format(total))\n",
    "    return round (total, 2)\n",
    "\n",
    "\n",
    "groceries = {\"bananas\": 1.56, \"apples\": 2.50, \"oranges\": 0.99, \"bread\": 4.59, \n",
    "             \"coffee\": 6.99, \"milk\": 3.39, \"eggs\": 2.98, \"cheese\": 5.44}\n",
    "print(add_prices(groceries)) # Should print 28.44"
   ]
  },
  {
   "cell_type": "code",
   "execution_count": 590,
   "metadata": {},
   "outputs": [
    {
     "name": "stdout",
     "output_type": "stream",
     "text": [
      "28.44\n"
     ]
    }
   ],
   "source": [
    "def add_prices(basket):\n",
    "\t# Initialize the variable that will be used for the calculation\n",
    "\ttotal = 0\n",
    "\t# Iterate through the dictionary items\n",
    "\tfor price in basket.values():\n",
    "\t\t# Add each price to the total calculation\n",
    "\t\t# Hint: how do you access the values of\n",
    "\t\t# dictionary items?\n",
    "\t\ttotal += price\n",
    "\t# Limit the return value to 2 decimal places\n",
    "\treturn round(total, 2)  \n",
    "\n",
    "groceries = {\"bananas\": 1.56, \"apples\": 2.50, \"oranges\": 0.99, \"bread\": 4.59, \n",
    "\t\"coffee\": 6.99, \"milk\": 3.39, \"eggs\": 2.98, \"cheese\": 5.44}\n",
    "\n",
    "print(add_prices(groceries)) # Should print 28.44"
   ]
  },
  {
   "cell_type": "markdown",
   "metadata": {},
   "source": [
    "# Module Review\n",
    "\n",
    "1. Basic structur wrap up\n",
    "    - Strings\n",
    "    - Lists\n",
    "    - Dictionaries \n",
    "\n",
    "\n",
    "2. Data types\n",
    "    - Tuples\n",
    "    - Sets"
   ]
  },
  {
   "cell_type": "markdown",
   "metadata": {},
   "source": [
    "# Module 4 Graded Assessment\n",
    "\n",
    "# Q1 \n",
    "The format_address function separates out parts of the address string into new strings: house_number and street_name, and returns: \"house number X on street named Y\". The format of the input string is: numeric house number, followed by the street name which may contain numbers, but never by themselves, and could be several words long. For example, \"123 Main Street\", \"1001 1st Ave\", or \"55 North Center Drive\". Fill in the gaps to complete this function.\n",
    "\n",
    "\n"
   ]
  },
  {
   "cell_type": "code",
   "execution_count": 677,
   "metadata": {},
   "outputs": [
    {
     "name": "stdout",
     "output_type": "stream",
     "text": [
      "house number 123 on street named Main Street \n",
      "house number 1001 on street named 1st Ave \n",
      "house number 55 on street named North Center Drive \n"
     ]
    }
   ],
   "source": [
    "def format_address(address_string):\n",
    "    house_numer = ''\n",
    "    street_name = ''\n",
    "    spi = address_string.split()\n",
    "    for element in spi:\n",
    "        #if element.isnumeric():\n",
    "        if element.isdigit():\n",
    "            house_numer = element\n",
    "        else:\n",
    "            street_name += element\n",
    "            street_name += \" \"\n",
    "    return (\"house number {} on street named {}\".format(house_numer, street_name))\n",
    "\n",
    "print(format_address(\"123 Main Street\"))\n",
    "# Should print: \"house number 123 on street named Main Street\"\n",
    "\n",
    "print(format_address(\"1001 1st Ave\"))\n",
    "# Should print: \"house number 1001 on street named 1st Ave\"\n",
    "\n",
    "print(format_address(\"55 North Center Drive\"))\n",
    "# Should print \"house number 55 on street named North Center Drive\"\n"
   ]
  },
  {
   "cell_type": "markdown",
   "metadata": {},
   "source": [
    "# Q2\n",
    "The highlight_word function changes the given word in a sentence to its upper-case version. For example, highlight_word(\"Have a nice day\", \"nice\") returns \"Have a NICE day\". Can you write this function in just one line?\n",
    "\n"
   ]
  },
  {
   "cell_type": "code",
   "execution_count": 688,
   "metadata": {},
   "outputs": [
    {
     "name": "stdout",
     "output_type": "stream",
     "text": [
      "Have a NICE day\n",
      "Shhh, don't be so LOUD!\n",
      "Automating with Python is FUN\n"
     ]
    }
   ],
   "source": [
    "def highlight_word(sentence, word):\n",
    "    return(sentence.replace(word, word.upper()))\n",
    "print(highlight_word(\"Have a nice day\", \"nice\"))\n",
    "print(highlight_word(\"Shhh, don't be so loud!\", \"loud\"))\n",
    "print(highlight_word(\"Automating with Python is fun\", \"fun\")) "
   ]
  },
  {
   "cell_type": "markdown",
   "metadata": {},
   "source": [
    "# Q3\n",
    "A professor with two assistants, Jamie and Drew, wants an attendance list of the students, in the order that they arrived in the classroom. Drew was the first one to note which students arrived, and then Jamie took over. After the class, they each entered their lists into the computer and emailed them to the professor, who needs to combine them into one, in the order of each student's arrival. Jamie emailed a follow-up, saying that her list is in reverse order. Complete the steps to combine them into one list as follows: **the contents of Drew's list, followed by Jamie's list in reverse order**, to get an accurate list of the students as they arrived.\n",
    "\n"
   ]
  },
  {
   "cell_type": "code",
   "execution_count": 733,
   "metadata": {},
   "outputs": [
    {
     "name": "stdout",
     "output_type": "stream",
     "text": [
      "['Mike', 'Carol', 'Greg', 'Marcia', 'Peter', 'Jan', 'Bobby', 'Cindy', 'Alice']\n"
     ]
    }
   ],
   "source": [
    "def combine_lists(list1, list2):\n",
    "    # Generate a new list containing the elements of list2\n",
    "    new_list = list2\n",
    "    # Followed by the elements of list1 in reverse order\n",
    "    for i in reversed(range(len(list1))):\n",
    "        new_list.append(list1[i]) \n",
    "    return new_list\n",
    "\n",
    "Jamies_list = [\"Alice\", \"Cindy\", \"Bobby\", \"Jan\", \"Peter\"]\n",
    "Drews_list = [\"Mike\", \"Carol\", \"Greg\", \"Marcia\"]\n",
    "\n",
    "print(combine_lists(Jamies_list, Drews_list))\n"
   ]
  },
  {
   "cell_type": "code",
   "execution_count": 740,
   "metadata": {},
   "outputs": [
    {
     "name": "stdout",
     "output_type": "stream",
     "text": [
      "['Mike', 'Carol', 'Greg', 'Marcia', 'Peter', 'Jan', 'Bobby', 'Cindy', 'Alice']\n"
     ]
    }
   ],
   "source": [
    "def combine_lists(list1, list2):\n",
    "    new_list = list2 + list1[::-1]\n",
    "    return new_list\n",
    "Jamies_list = [\"Alice\", \"Cindy\", \"Bobby\", \"Jan\", \"Peter\"]\n",
    "Drews_list = [\"Mike\", \"Carol\", \"Greg\", \"Marcia\"]\n",
    "\n",
    "print(combine_lists(Jamies_list, Drews_list))\n"
   ]
  },
  {
   "cell_type": "markdown",
   "metadata": {},
   "source": [
    "# Q4\n",
    "Use a list comprehension to create a list of squared numbers (n*n). The function receives the variables start and end, and returns a list of squares of consecutive numbers between start and end inclusively. For example, squares(2, 3) should return [4, 9].\n",
    "\n"
   ]
  },
  {
   "cell_type": "code",
   "execution_count": 769,
   "metadata": {},
   "outputs": [
    {
     "name": "stdout",
     "output_type": "stream",
     "text": [
      "[4, 9]\n",
      "[1, 4, 9, 16, 25]\n",
      "[0, 1, 4, 9, 16, 25, 36, 49, 64, 81, 100]\n"
     ]
    }
   ],
   "source": [
    "def squares(start, end):\n",
    "    squared_number = []\n",
    "    for x in range(start, end+1):\n",
    "        squared_number.append(x*x)\n",
    "    return squared_number\n",
    "\n",
    "print(squares(2, 3)) # Should be [4, 9]\n",
    "print(squares(1, 5)) # Should be [1, 4, 9, 16, 25]\n",
    "print(squares(0, 10)) # Should be [0, 1, 4, 9, 16, 25, 36, 49, 64, 81, 100]"
   ]
  },
  {
   "cell_type": "code",
   "execution_count": 770,
   "metadata": {},
   "outputs": [
    {
     "name": "stdout",
     "output_type": "stream",
     "text": [
      "[4, 9]\n",
      "[1, 4, 9, 16, 25]\n",
      "[0, 1, 4, 9, 16, 25, 36, 49, 64, 81, 100]\n"
     ]
    }
   ],
   "source": [
    "def squares(start, end):\n",
    "    return [x * x for x in range(start, end+1)]\n",
    "print(squares(2, 3)) # Should be [4, 9]\n",
    "print(squares(1, 5)) # Should be [1, 4, 9, 16, 25]\n",
    "print(squares(0, 10)) # Should be [0, 1, 4, 9, 16, 25, 36, 49, 64, 81, 100]"
   ]
  },
  {
   "cell_type": "markdown",
   "metadata": {},
   "source": [
    "# Q5\n",
    "Complete the code to iterate through the keys and values of the car_prices dictionary, printing out some information about each one.\n",
    "\n"
   ]
  },
  {
   "cell_type": "code",
   "execution_count": 768,
   "metadata": {},
   "outputs": [
    {
     "name": "stdout",
     "output_type": "stream",
     "text": [
      "Kia Soul costs 19000 dollars\n",
      "Lamborghini Diablo costs 55000 dollars\n",
      "Ford Fiesta costs 13000 dollars\n",
      "Toyota Prius costs 24000 dollars\n",
      "\n"
     ]
    }
   ],
   "source": [
    "def car_listing(car_prices):\n",
    "    result = \"\"\n",
    "    for key, value in car_prices.items():\n",
    "        result += \"{} costs {} dollars\".format(key, value) + \"\\n\"\n",
    "    return result\n",
    "\n",
    "print(car_listing({\"Kia Soul\":19000, \"Lamborghini Diablo\":55000, \"Ford Fiesta\":13000, \"Toyota Prius\":24000}))"
   ]
  },
  {
   "cell_type": "markdown",
   "metadata": {},
   "source": [
    "# Q6\n",
    "Taylor and Rory are hosting a party. They sent out invitations, and each one collected responses into dictionaries, with names of their friends and how many guests each friend is bringing. Each dictionary is a partial list, but Rory's list has more current information about the number of guests. Fill in the blanks to combine both dictionaries into one, with each friend listed only once, and the number of guests from Rory's dictionary taking precedence, if a name is included in both dictionaries. Then print the resulting dictionary.\n",
    "\n"
   ]
  },
  {
   "cell_type": "code",
   "execution_count": 803,
   "metadata": {},
   "outputs": [
    {
     "name": "stdout",
     "output_type": "stream",
     "text": [
      "{'Adam': 2, 'Brenda': 3, 'David': 1, 'Jose': 3, 'Charlotte': 2, 'Terry': 1, 'Robert': 4, 'Nancy': 1, 'Samantha': 3, 'Chris': 5}\n"
     ]
    }
   ],
   "source": [
    "def combine_guests(guests1, guests2):\n",
    "    # Combine both dictionaries into one, with each key listed\n",
    "    result = guests1\n",
    "    for guesat in guests2:\n",
    "        if guesat in  result:\n",
    "            pass\n",
    "        else:\n",
    "            result[guesat] = guests2[guesat]  \n",
    "    return result\n",
    "                \n",
    "  # only once, and the value from guests1 taking precedence\n",
    "\n",
    "Rorys_guests = { \"Adam\":2, \"Brenda\":3, \"David\":1, \"Jose\":3, \"Charlotte\":2, \"Terry\":1, \"Robert\":4}\n",
    "Taylors_guests = { \"David\":4, \"Nancy\":1, \"Robert\":2, \"Adam\":1, \"Samantha\":3, \"Chris\":5}\n",
    "print(combine_guests(Rorys_guests, Taylors_guests))\n"
   ]
  },
  {
   "cell_type": "code",
   "execution_count": 807,
   "metadata": {},
   "outputs": [
    {
     "name": "stdout",
     "output_type": "stream",
     "text": [
      "{'Adam': 2, 'Brenda': 3, 'David': 1, 'Jose': 3, 'Charlotte': 2, 'Terry': 1, 'Robert': 4, 'Nancy': 1, 'Samantha': 3, 'Chris': 5}\n"
     ]
    }
   ],
   "source": [
    "from copy import deepcopy\n",
    "\n",
    "def combine_guests(guests1, guests2):\n",
    "    backup = deepcopy(guests1)\n",
    "    guests1.update(guests2)\n",
    "    for guest in guests1:\n",
    "        if guest in backup:\n",
    "            guests1[guest] = backup[guest]\n",
    "    return guests1\n",
    "\n",
    "Rorys_guests = { \"Adam\":2, \"Brenda\":3, \"David\":1, \"Jose\":3, \"Charlotte\":2, \"Terry\":1, \"Robert\":4}\n",
    "Taylors_guests = { \"David\":4, \"Nancy\":1, \"Robert\":2, \"Adam\":1, \"Samantha\":3, \"Chris\":5}\n",
    "\n",
    "print(combine_guests(Rorys_guests, Taylors_guests))"
   ]
  },
  {
   "cell_type": "code",
   "execution_count": 816,
   "metadata": {},
   "outputs": [
    {
     "name": "stdout",
     "output_type": "stream",
     "text": [
      "{'David': 1, 'Nancy': 1, 'Robert': 4, 'Adam': 2, 'Samantha': 3, 'Chris': 5, 'Brenda': 3, 'Jose': 3, 'Charlotte': 2, 'Terry': 1}\n"
     ]
    }
   ],
   "source": [
    "def combine_guests(guests1, guests2):\n",
    "  # Combine both dictionaries into one, with each key listed \n",
    "  # only once, and the value from guests1 taking precedence\n",
    "    guests2.update(guests1)\n",
    "    return guests2\n",
    "\n",
    "Rorys_guests = { \"Adam\":2, \"Brenda\":3, \"David\":1, \"Jose\":3, \"Charlotte\":2, \"Terry\":1, \"Robert\":4}\n",
    "Taylors_guests = { \"David\":4, \"Nancy\":1, \"Robert\":2, \"Adam\":1, \"Samantha\":3, \"Chris\":5}\n",
    "\n",
    "print(combine_guests(Rorys_guests, Taylors_guests))"
   ]
  },
  {
   "cell_type": "markdown",
   "metadata": {},
   "source": [
    "# Q7\n",
    "Use a dictionary to count the frequency of letters in the input string. Only letters should be counted, not blank spaces, numbers, or punctuation. Upper case should be considered the same as lower case. For example, `count_letters(\"This is a sentence.\")` should return `{'t': 2, 'h': 1, 'i': 2, 's': 3, 'a': 1, 'e': 3, 'n': 2, 'c': 1}`.\n",
    "\n"
   ]
  },
  {
   "cell_type": "code",
   "execution_count": 873,
   "metadata": {},
   "outputs": [
    {
     "name": "stdout",
     "output_type": "stream",
     "text": [
      "{'a': 2, 'b': 2, 'c': 2}\n",
      "{'m': 1, 'a': 1, 't': 1, 'h': 1, 'i': 1, 's': 1, 'f': 1, 'u': 1, 'n': 1}\n",
      "{'t': 2, 'h': 1, 'i': 2, 's': 3, 'a': 1, 'e': 3, 'n': 2, 'c': 1}\n"
     ]
    }
   ],
   "source": [
    "def count_letters(text):\n",
    "    text = text.lower()\n",
    "    result = {}\n",
    "    # Go through each letter in the text\n",
    "    for letter in text:\n",
    "        # Check if the letter needs to be counted or not\n",
    "        if letter.isalpha():\n",
    "            if letter in result:\n",
    "                # Add or increment the value in the dictionary\n",
    "                result[letter] += 1\n",
    "            else:\n",
    "                result[letter] = 1\n",
    "    return result\n",
    "print(count_letters(\"AaBbCc\"))\n",
    "# Should be {'a': 2, 'b': 2, 'c': 2}\n",
    "\n",
    "print(count_letters(\"Math is fun! 2+2=4\"))\n",
    "# # # Should be {'m': 1, 'a': 1, 't': 1, 'h': 1, 'i': 1, 's': 1, 'f': 1, 'u': 1, 'n': 1}\n",
    "\n",
    "print(count_letters(\"This is a sentence.\"))\n",
    "# # # Should be {'t': 2, 'h': 1, 'i': 2, 's': 3, 'a': 1, 'e': 3, 'n': 2, 'c': 1}"
   ]
  },
  {
   "cell_type": "markdown",
   "metadata": {},
   "source": [
    "# Q9\n",
    "What do the following commands return when animal = \"Hippopotamus\"?\n",
    "\n"
   ]
  },
  {
   "cell_type": "code",
   "execution_count": 875,
   "metadata": {},
   "outputs": [
    {
     "name": "stdout",
     "output_type": "stream",
     "text": [
      "pop\n",
      "t\n",
      "us\n"
     ]
    }
   ],
   "source": [
    "animal= 'Hippopotamus'\n",
    "print(animal[3:6])\n",
    "print(animal[-5])\n",
    "print(animal[10:])"
   ]
  },
  {
   "cell_type": "markdown",
   "metadata": {},
   "source": [
    "# Q9\n",
    "What does the list \"colors\" contain after these commands are executed?\n",
    "\n"
   ]
  },
  {
   "cell_type": "code",
   "execution_count": 878,
   "metadata": {},
   "outputs": [
    {
     "name": "stdout",
     "output_type": "stream",
     "text": [
      "['red', 'white', 'yellow', 'blue']\n"
     ]
    }
   ],
   "source": [
    "colors = [\"red\", \"white\", \"blue\"]\n",
    "colors.insert(2, \"yellow\")\n",
    "print(colors)"
   ]
  },
  {
   "cell_type": "markdown",
   "metadata": {},
   "source": [
    "# Q10\n",
    "What do the following commands return?\n",
    "\n"
   ]
  },
  {
   "cell_type": "code",
   "execution_count": 879,
   "metadata": {},
   "outputs": [
    {
     "data": {
      "text/plain": [
       "dict_keys(['router', 'localhost', 'google'])"
      ]
     },
     "execution_count": 879,
     "metadata": {},
     "output_type": "execute_result"
    }
   ],
   "source": [
    "host_addresses = {\"router\": \"192.168.1.1\", \"localhost\": \"127.0.0.1\", \"google\": \"8.8.8.8\"}\n",
    "host_addresses.keys()"
   ]
  }
 ],
 "metadata": {
  "kernelspec": {
   "display_name": "Python 3.7.4 64-bit",
   "language": "python",
   "name": "python37464bit4f5a486b0d5a4502b72366aff4ddf638"
  },
  "language_info": {
   "codemirror_mode": {
    "name": "ipython",
    "version": 3
   },
   "file_extension": ".py",
   "mimetype": "text/x-python",
   "name": "python",
   "nbconvert_exporter": "python",
   "pygments_lexer": "ipython3",
   "version": "3.7.4"
  }
 },
 "nbformat": 4,
 "nbformat_minor": 2
}
