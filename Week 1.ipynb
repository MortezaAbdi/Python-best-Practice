{
 "cells": [
  {
   "cell_type": "markdown",
   "metadata": {},
   "source": [
    "# More About Python\n",
    "\n",
    "Using Python on your own\n",
    "\n",
    "The best way to learn any programming language is to practice it on your own as much as you can. If you have Python installed on your computer, you can execute the interpreter by running the python3 command (or just python on Windows), and you can close it by typing `exit()` or `Ctrl-D`.\n",
    "\n",
    "If you don’t already have Python installed on your machine, that’s alright. We’ll explain how to install it in an upcoming course.\n",
    "\n",
    "In the meantime, you can still practice by using one of the many online Python interpreters or codepads available online. There’s not much difference between an interpreter and a codepad. An interpreter is more interactive than a codepad, but they both let you execute code and see the results.\n",
    "\n",
    "Below, you’ll find links to some of the most popular online interpreters and codepads. Give them a go to find your favorite.\n",
    "\n",
    "https://www.python.org/shell/\n",
    "\n",
    "https://www.onlinegdb.com/online_python_interpreter\n",
    "\n",
    "https://repl.it/languages/python3\n",
    "\n",
    "https://www.tutorialspoint.com/execute_python3_online.php\n",
    "\n",
    "https://rextester.com/l/python3_online_compiler\n",
    "\n",
    "https://trinket.io/python3\n",
    "\n",
    "\n",
    "__Additional Python resources__\n",
    "\n",
    "While this course will give you information about how Python works and how to write scripts in Python, you’ll likely want to find out more about specific parts of the language. Here are some great ways to help you find additional info: \n",
    "\n",
    "- Read the [official Python documentation](https://docs.python.org/3/).\n",
    "\n",
    "- Search for answers or ask a question on [Stack Overflow](https://stackoverflow.com/).\n",
    "\n",
    "- Subscribe to the Python [tutor](https://mail.python.org/mailman/listinfo/tutor) mailing list, where you can ask questions and collaborate with other Python learners.\n",
    "\n",
    "\n",
    "- Subscribe to the [Python-announce](https://mail.python.org/mailman3/lists/python-announce-list.python.org/) mailing list to read about the latest updates in the language.\n",
    "\n",
    "\n",
    "Python history and current status\n",
    "\n",
    "Python was released almost 30 years ago and has a rich history. You can read more about it on the [History of Python](https://en.wikipedia.org/wiki/History_of_Python)\n",
    "Wikipedia page or in the section on the [history of the software](https://docs.python.org/3.0/license.html) from the official Python documentation.\n",
    "\n",
    "Python has recently been called the fastest growing programming language. If you're interested in why this is and how it’s measured, you can find out more in these articles:\n",
    "\n",
    "- [The Incredible Growth of Python (Stack Overflow)](https://stackoverflow.blog/2017/09/06/incredible-growth-python/)\n",
    "\n",
    "- [Why is Python Growing So Quickly - Future Trends (Netguru)](https://www.netguru.com/blog/future-trends-in-python)\n",
    "\n",
    "- [By the numbers: Python community trends in 2017/2018 (Opensource.com)](https://opensource.com/article/18/5/numbers-python-community-trends)\n",
    "\n",
    "- [Developer Survey Results 2018 (Stack Overflow)](https://insights.stackoverflow.com/survey/2018#technology)\n"
   ]
  },
  {
   "cell_type": "code",
   "execution_count": 1,
   "metadata": {},
   "outputs": [
    {
     "name": "stdout",
     "output_type": "stream",
     "text": [
      "Hi A\n",
      "Hi B\n",
      "Hi C\n"
     ]
    }
   ],
   "source": [
    "friends = [\"A\", \"B\", \"C\"]\n",
    "for friend in friends:\n",
    "    print(\"Hi\", friend)"
   ]
  },
  {
   "cell_type": "markdown",
   "metadata": {},
   "source": [
    "**Python from syntax prespecctive with `Bash` and `PowerShell` programming**"
   ]
  },
  {
   "cell_type": "code",
   "execution_count": 8,
   "metadata": {},
   "outputs": [
    {
     "name": "stdout",
     "output_type": "stream",
     "text": [
      "Hello, wrold\n",
      "Hello, wrold\n",
      "Hello, wrold\n",
      "Hello, wrold\n",
      "Hello, wrold\n",
      "Hello, wrold\n",
      "Hello, wrold\n",
      "Hello, wrold\n",
      "Hello, wrold\n",
      "Hello, wrold\n"
     ]
    }
   ],
   "source": [
    "for i in range(10):\n",
    "    print(\"Hello, wrold\")"
   ]
  },
  {
   "cell_type": "code",
   "execution_count": 18,
   "metadata": {},
   "outputs": [
    {
     "name": "stdout",
     "output_type": "stream",
     "text": [
      "Redis the color ofWish\n"
     ]
    }
   ],
   "source": [
    "color = \"Red\"\n",
    "thing = \"Wish\"\n",
    "print(color + \"is the color of\" + thing)"
   ]
  },
  {
   "cell_type": "markdown",
   "metadata": {},
   "source": [
    "# First Programming Concepts Cheat Sheet\n",
    "\n",
    "- Functions and Keywords\n",
    "\n",
    "**Functions and keywords are the building blocks of a language’s syntax.**\n",
    "\n",
    "Functions are pieces of code that perform a unit of work. In the examples we've seen so far, we've only encountered the print() function, which prints a message to the screen. We'll learn about a lot of other functions in later lessons but, if you're too curious to wait until then, you can discover all the functions available [here](https://docs.python.org/3/library/functions.html).\n",
    "\n",
    "\n",
    "**Keywords are reserved words that are used to construct instructions**. We briefly encountered for and in in our first Python example, and we'll use a bunch of other keywords as we go through the course. In the meantime, you can see examples of keyword usage [here](https://www.programiz.com/python-programming/keyword-list).\n",
    "\n",
    "Arithmetic operators\n",
    "Python can operate with numbers using the usual mathematical operators, and some special operators, too. These are all of them (we'll explore the last two in later videos).\n",
    "\n",
    "- a + b = Adds a and b\n",
    "- a - b = Subtracts b from a\n",
    "- a * b = Multiplies a and b\n",
    "- a / b = Divides a by b\n",
    "- a ** b = Elevates a to the power of b. For non integer values of b, this becomes a root (i.e. a**(1/2) is the square root of a)\n",
    "- a // b = The integer part of the integer division of a by b\n",
    "- a % b = The remainder part of the integer division of a by b\n",
    "\n",
    "\n",
    "\\begin{align}\n",
    "\\frac{(1 + \\sqrt{5})}{2} \n",
    "\\end{align}"
   ]
  },
  {
   "cell_type": "code",
   "execution_count": 19,
   "metadata": {},
   "outputs": [
    {
     "name": "stdout",
     "output_type": "stream",
     "text": [
      "1.618033988749895\n"
     ]
    }
   ],
   "source": [
    "ratio = ((1 + (5**(1/2))))/2\n",
    "print(ratio)"
   ]
  },
  {
   "cell_type": "markdown",
   "metadata": {},
   "source": [
    "**Key words**"
   ]
  },
  {
   "cell_type": "code",
   "execution_count": 24,
   "metadata": {},
   "outputs": [
    {
     "name": "stdout",
     "output_type": "stream",
     "text": [
      "['False', 'None', 'True', 'and', 'as', 'assert', 'async', 'await', 'break', 'class', 'continue', 'def', 'del', 'elif', 'else', 'except', 'finally', 'for', 'from', 'global', 'if', 'import', 'in', 'is', 'lambda', 'nonlocal', 'not', 'or', 'pass', 'raise', 'return', 'try', 'while', 'with', 'yield']\n"
     ]
    }
   ],
   "source": [
    "import keyword\n",
    "print(keyword.kwlist)"
   ]
  },
  {
   "cell_type": "code",
   "execution_count": 25,
   "metadata": {},
   "outputs": [
    {
     "name": "stdout",
     "output_type": "stream",
     "text": [
      "None\n"
     ]
    }
   ],
   "source": []
  }
 ],
 "metadata": {
  "kernelspec": {
   "display_name": "Python 3.7.4 64-bit",
   "language": "python",
   "name": "python37464bit4f5a486b0d5a4502b72366aff4ddf638"
  },
  "language_info": {
   "codemirror_mode": {
    "name": "ipython",
    "version": 3
   },
   "file_extension": ".py",
   "mimetype": "text/x-python",
   "name": "python",
   "nbconvert_exporter": "python",
   "pygments_lexer": "ipython3",
   "version": "3.7.4"
  }
 },
 "nbformat": 4,
 "nbformat_minor": 2
}
